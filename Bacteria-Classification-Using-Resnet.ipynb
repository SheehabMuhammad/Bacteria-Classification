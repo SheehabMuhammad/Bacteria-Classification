{
  "nbformat": 4,
  "nbformat_minor": 0,
  "metadata": {
    "colab": {
      "name": "Resnet- Colony Classification.ipynb",
      "provenance": [],
      "collapsed_sections": [],
      "toc_visible": true,
      "include_colab_link": true
    },
    "kernelspec": {
      "name": "python3",
      "display_name": "Python 3"
    },
    "accelerator": "GPU",
    "widgets": {
      "application/vnd.jupyter.widget-state+json": {
        "c90a0c908e1c4459856f705e85da9663": {
          "model_module": "@jupyter-widgets/controls",
          "model_name": "HBoxModel",
          "state": {
            "_view_name": "HBoxView",
            "_dom_classes": [],
            "_model_name": "HBoxModel",
            "_view_module": "@jupyter-widgets/controls",
            "_model_module_version": "1.5.0",
            "_view_count": null,
            "_view_module_version": "1.5.0",
            "box_style": "",
            "layout": "IPY_MODEL_2adb824ce5e04bbca520d166d2b7dcba",
            "_model_module": "@jupyter-widgets/controls",
            "children": [
              "IPY_MODEL_45ed3b114b7c440289a46b0d4b005e35",
              "IPY_MODEL_899daa551fd94db590670c31238945f9"
            ]
          }
        },
        "2adb824ce5e04bbca520d166d2b7dcba": {
          "model_module": "@jupyter-widgets/base",
          "model_name": "LayoutModel",
          "state": {
            "_view_name": "LayoutView",
            "grid_template_rows": null,
            "right": null,
            "justify_content": null,
            "_view_module": "@jupyter-widgets/base",
            "overflow": null,
            "_model_module_version": "1.2.0",
            "_view_count": null,
            "flex_flow": null,
            "width": null,
            "min_width": null,
            "border": null,
            "align_items": null,
            "bottom": null,
            "_model_module": "@jupyter-widgets/base",
            "top": null,
            "grid_column": null,
            "overflow_y": null,
            "overflow_x": null,
            "grid_auto_flow": null,
            "grid_area": null,
            "grid_template_columns": null,
            "flex": null,
            "_model_name": "LayoutModel",
            "justify_items": null,
            "grid_row": null,
            "max_height": null,
            "align_content": null,
            "visibility": null,
            "align_self": null,
            "height": null,
            "min_height": null,
            "padding": null,
            "grid_auto_rows": null,
            "grid_gap": null,
            "max_width": null,
            "order": null,
            "_view_module_version": "1.2.0",
            "grid_template_areas": null,
            "object_position": null,
            "object_fit": null,
            "grid_auto_columns": null,
            "margin": null,
            "display": null,
            "left": null
          }
        },
        "45ed3b114b7c440289a46b0d4b005e35": {
          "model_module": "@jupyter-widgets/controls",
          "model_name": "IntProgressModel",
          "state": {
            "_view_name": "ProgressView",
            "style": "IPY_MODEL_8dd46f8308f3476798435cc78c9a4374",
            "_dom_classes": [],
            "description": "",
            "_model_name": "IntProgressModel",
            "bar_style": "success",
            "max": 87306240,
            "_view_module": "@jupyter-widgets/controls",
            "_model_module_version": "1.5.0",
            "value": 87306240,
            "_view_count": null,
            "_view_module_version": "1.5.0",
            "orientation": "horizontal",
            "min": 0,
            "description_tooltip": null,
            "_model_module": "@jupyter-widgets/controls",
            "layout": "IPY_MODEL_19226605edd6472199dd53117811a968"
          }
        },
        "899daa551fd94db590670c31238945f9": {
          "model_module": "@jupyter-widgets/controls",
          "model_name": "HTMLModel",
          "state": {
            "_view_name": "HTMLView",
            "style": "IPY_MODEL_c25c2798414748daa75e5518db4e58bb",
            "_dom_classes": [],
            "description": "",
            "_model_name": "HTMLModel",
            "placeholder": "​",
            "_view_module": "@jupyter-widgets/controls",
            "_model_module_version": "1.5.0",
            "value": "100% 83.3M/83.3M [00:01&lt;00:00, 52.2MB/s]",
            "_view_count": null,
            "_view_module_version": "1.5.0",
            "description_tooltip": null,
            "_model_module": "@jupyter-widgets/controls",
            "layout": "IPY_MODEL_3f1bdd44031f4640a06a4a9feb9f2a5b"
          }
        },
        "8dd46f8308f3476798435cc78c9a4374": {
          "model_module": "@jupyter-widgets/controls",
          "model_name": "ProgressStyleModel",
          "state": {
            "_view_name": "StyleView",
            "_model_name": "ProgressStyleModel",
            "description_width": "",
            "_view_module": "@jupyter-widgets/base",
            "_model_module_version": "1.5.0",
            "_view_count": null,
            "_view_module_version": "1.2.0",
            "bar_color": null,
            "_model_module": "@jupyter-widgets/controls"
          }
        },
        "19226605edd6472199dd53117811a968": {
          "model_module": "@jupyter-widgets/base",
          "model_name": "LayoutModel",
          "state": {
            "_view_name": "LayoutView",
            "grid_template_rows": null,
            "right": null,
            "justify_content": null,
            "_view_module": "@jupyter-widgets/base",
            "overflow": null,
            "_model_module_version": "1.2.0",
            "_view_count": null,
            "flex_flow": null,
            "width": null,
            "min_width": null,
            "border": null,
            "align_items": null,
            "bottom": null,
            "_model_module": "@jupyter-widgets/base",
            "top": null,
            "grid_column": null,
            "overflow_y": null,
            "overflow_x": null,
            "grid_auto_flow": null,
            "grid_area": null,
            "grid_template_columns": null,
            "flex": null,
            "_model_name": "LayoutModel",
            "justify_items": null,
            "grid_row": null,
            "max_height": null,
            "align_content": null,
            "visibility": null,
            "align_self": null,
            "height": null,
            "min_height": null,
            "padding": null,
            "grid_auto_rows": null,
            "grid_gap": null,
            "max_width": null,
            "order": null,
            "_view_module_version": "1.2.0",
            "grid_template_areas": null,
            "object_position": null,
            "object_fit": null,
            "grid_auto_columns": null,
            "margin": null,
            "display": null,
            "left": null
          }
        },
        "c25c2798414748daa75e5518db4e58bb": {
          "model_module": "@jupyter-widgets/controls",
          "model_name": "DescriptionStyleModel",
          "state": {
            "_view_name": "StyleView",
            "_model_name": "DescriptionStyleModel",
            "description_width": "",
            "_view_module": "@jupyter-widgets/base",
            "_model_module_version": "1.5.0",
            "_view_count": null,
            "_view_module_version": "1.2.0",
            "_model_module": "@jupyter-widgets/controls"
          }
        },
        "3f1bdd44031f4640a06a4a9feb9f2a5b": {
          "model_module": "@jupyter-widgets/base",
          "model_name": "LayoutModel",
          "state": {
            "_view_name": "LayoutView",
            "grid_template_rows": null,
            "right": null,
            "justify_content": null,
            "_view_module": "@jupyter-widgets/base",
            "overflow": null,
            "_model_module_version": "1.2.0",
            "_view_count": null,
            "flex_flow": null,
            "width": null,
            "min_width": null,
            "border": null,
            "align_items": null,
            "bottom": null,
            "_model_module": "@jupyter-widgets/base",
            "top": null,
            "grid_column": null,
            "overflow_y": null,
            "overflow_x": null,
            "grid_auto_flow": null,
            "grid_area": null,
            "grid_template_columns": null,
            "flex": null,
            "_model_name": "LayoutModel",
            "justify_items": null,
            "grid_row": null,
            "max_height": null,
            "align_content": null,
            "visibility": null,
            "align_self": null,
            "height": null,
            "min_height": null,
            "padding": null,
            "grid_auto_rows": null,
            "grid_gap": null,
            "max_width": null,
            "order": null,
            "_view_module_version": "1.2.0",
            "grid_template_areas": null,
            "object_position": null,
            "object_fit": null,
            "grid_auto_columns": null,
            "margin": null,
            "display": null,
            "left": null
          }
        }
      }
    }
  },
  "cells": [
    {
      "cell_type": "markdown",
      "metadata": {
        "id": "view-in-github",
        "colab_type": "text"
      },
      "source": [
        "<a href=\"https://colab.research.google.com/github/SheehabMuhammad/Bacteria-Classification/blob/master/Bacteria-Classification-Using-Resnet.ipynb\" target=\"_parent\"><img src=\"https://colab.research.google.com/assets/colab-badge.svg\" alt=\"Open In Colab\"/></a>"
      ]
    },
    {
      "cell_type": "code",
      "metadata": {
        "id": "YhiavGZuiPfI",
        "outputId": "54f862a1-0a31-430b-df21-2a80b20df1aa",
        "colab": {
          "base_uri": "https://localhost:8080/",
          "height": 54
        }
      },
      "source": [
        "from google.colab import drive\n",
        "drive.mount('/content/drive')"
      ],
      "execution_count": null,
      "outputs": [
        {
          "output_type": "stream",
          "text": [
            "Drive already mounted at /content/drive; to attempt to forcibly remount, call drive.mount(\"/content/drive\", force_remount=True).\n"
          ],
          "name": "stdout"
        }
      ]
    },
    {
      "cell_type": "code",
      "metadata": {
        "id": "1LqOV9BUjJy7"
      },
      "source": [
        "%reload_ext autoreload\n",
        "%autoreload 2\n",
        "%matplotlib inline\n",
        "\n",
        "from fastai.vision import *\n",
        "from fastai.metrics import error_rate\n",
        "\n",
        "\n",
        "bs = 32  #batch size: if your GPU is running out of memory, set a smaller batch size, i.e 16\n",
        "sz = 224 #image size\n",
        "\n",
        "\n",
        "PATH = '/content/drive/My Drive/CSE499/Dibas-Dataset-Untouched/Train'\n",
        "\n",
        "def find_appropriate_lr(model:Learner, lr_diff:int = 15, loss_threshold:float = .05, adjust_value:float = 1, plot:bool = True) -> float:\n",
        "    #Run the Learning Rate Finder\n",
        "    #model.lr_find()\n",
        "    \n",
        "    #Get loss values and their corresponding gradients, and get lr values\n",
        "    losses = np.array(model.recorder.losses)\n",
        "    assert(lr_diff < len(losses))\n",
        "    loss_grad = np.gradient(losses)\n",
        "    lrs = model.recorder.lrs\n",
        "    \n",
        "    #Search for index in gradients where loss is lowest before the loss spike\n",
        "    #Initialize right and left idx using the lr_diff as a spacing unit\n",
        "    #Set the local min lr as -1 to signify if threshold is too low\n",
        "    r_idx = -1\n",
        "    l_idx = r_idx - lr_diff\n",
        "    while (l_idx >= -len(losses)) and (abs(loss_grad[r_idx] - loss_grad[l_idx]) > loss_threshold):\n",
        "        local_min_lr = lrs[l_idx]\n",
        "        r_idx -= 1\n",
        "        l_idx -= 1\n",
        "\n",
        "    lr_to_use = local_min_lr * adjust_value\n",
        "    \n",
        "    if plot:\n",
        "        # plots the gradients of the losses in respect to the learning rate change\n",
        "        plt.plot(loss_grad)\n",
        "        plt.plot(len(losses)+l_idx, loss_grad[l_idx],markersize=10,marker='o',color='red')\n",
        "        plt.ylabel(\"Loss\")\n",
        "        plt.xlabel(\"Index of LRs\")\n",
        "        plt.show()\n",
        "\n",
        "        plt.plot(np.log10(lrs), losses)\n",
        "        plt.ylabel(\"Loss\")\n",
        "        plt.xlabel(\"Log 10 Transform of Learning Rate\")\n",
        "        loss_coord = np.interp(np.log10(lr_to_use), np.log10(lrs), losses)\n",
        "        plt.plot(np.log10(lr_to_use), loss_coord, markersize=10,marker='o',color='red')\n",
        "        plt.show()\n",
        "        \n",
        "    return lr_to_use"
      ],
      "execution_count": null,
      "outputs": []
    },
    {
      "cell_type": "code",
      "metadata": {
        "id": "AkLLYQwzkjod",
        "outputId": "1a5d9270-3604-4462-ac00-65d6d10db2e9",
        "colab": {
          "base_uri": "https://localhost:8080/",
          "height": 72
        }
      },
      "source": [
        "classes = []\n",
        "for d in os.listdir(PATH):\n",
        "    if os.path.isdir(os.path.join(PATH, d)) and not d.startswith('.'):\n",
        "        classes.append(d) \n",
        "print (\"There are \", len(classes), \"classes:\\n\", classes) "
      ],
      "execution_count": null,
      "outputs": [
        {
          "output_type": "stream",
          "text": [
            "There are  33 classes:\n",
            " ['Bifidobacterium.spp', 'Acinetobacter.baumanii', 'Actinomyces.israeli', 'Bacteroides.fragilis', 'Candida.albicans', 'Escherichia.coli', 'Clostridium.perfringens', 'Enterococcus.faecalis', 'Enterococcus.faecium', 'Fusobacterium', 'Lactobacillus.casei', 'Lactobacillus.crispatus', 'Lactobacillus.delbrueckii', 'Veionella', 'Lactobacillus.jehnsenii', 'Lactobacillus.gasseri', 'Streptococcus.agalactiae', 'Staphylococcus.saprophiticus', 'Staphylococcus.epidermidis', 'Lactobacillus.paracasei', 'Lactobacillus.johnsonii', 'Lactobacillus.salivarius', 'Lactobacillus.rhamnosus', 'Proteus', 'Lactobacillus.reuteri', 'Neisseria.gonorrhoeae', 'Propionibacterium.acnes', 'Porfyromonas.gingivalis', 'Micrococcus.spp', 'Listeria.monocytogenes', 'Lactobacillus.plantarum', 'Staphylococcus.aureus', 'Pseudomonas.aeruginosa']\n"
          ],
          "name": "stdout"
        }
      ]
    },
    {
      "cell_type": "code",
      "metadata": {
        "id": "ThNF0bjWk2JO",
        "outputId": "241fb0d6-b907-47a0-f461-71eda11ba1a6",
        "colab": {
          "base_uri": "https://localhost:8080/",
          "height": 590
        }
      },
      "source": [
        "for c in classes:\n",
        "    print (\"Class:\", c)\n",
        "    verify_images(os.path.join(PATH, c), delete=True);"
      ],
      "execution_count": null,
      "outputs": [
        {
          "output_type": "stream",
          "text": [
            "Class: Bifidobacterium.spp\n"
          ],
          "name": "stdout"
        },
        {
          "output_type": "display_data",
          "data": {
            "text/html": [
              ""
            ],
            "text/plain": [
              "<IPython.core.display.HTML object>"
            ]
          },
          "metadata": {
            "tags": []
          }
        },
        {
          "output_type": "stream",
          "text": [
            "Class: Acinetobacter.baumanii\n"
          ],
          "name": "stdout"
        },
        {
          "output_type": "display_data",
          "data": {
            "text/html": [
              ""
            ],
            "text/plain": [
              "<IPython.core.display.HTML object>"
            ]
          },
          "metadata": {
            "tags": []
          }
        },
        {
          "output_type": "stream",
          "text": [
            "Class: Actinomyces.israeli\n"
          ],
          "name": "stdout"
        },
        {
          "output_type": "display_data",
          "data": {
            "text/html": [
              ""
            ],
            "text/plain": [
              "<IPython.core.display.HTML object>"
            ]
          },
          "metadata": {
            "tags": []
          }
        },
        {
          "output_type": "stream",
          "text": [
            "Class: Bacteroides.fragilis\n"
          ],
          "name": "stdout"
        },
        {
          "output_type": "display_data",
          "data": {
            "text/html": [
              ""
            ],
            "text/plain": [
              "<IPython.core.display.HTML object>"
            ]
          },
          "metadata": {
            "tags": []
          }
        },
        {
          "output_type": "stream",
          "text": [
            "Class: Candida.albicans\n"
          ],
          "name": "stdout"
        },
        {
          "output_type": "display_data",
          "data": {
            "text/html": [
              ""
            ],
            "text/plain": [
              "<IPython.core.display.HTML object>"
            ]
          },
          "metadata": {
            "tags": []
          }
        },
        {
          "output_type": "stream",
          "text": [
            "Class: Escherichia.coli\n"
          ],
          "name": "stdout"
        },
        {
          "output_type": "display_data",
          "data": {
            "text/html": [
              ""
            ],
            "text/plain": [
              "<IPython.core.display.HTML object>"
            ]
          },
          "metadata": {
            "tags": []
          }
        },
        {
          "output_type": "stream",
          "text": [
            "Class: Clostridium.perfringens\n"
          ],
          "name": "stdout"
        },
        {
          "output_type": "display_data",
          "data": {
            "text/html": [
              ""
            ],
            "text/plain": [
              "<IPython.core.display.HTML object>"
            ]
          },
          "metadata": {
            "tags": []
          }
        },
        {
          "output_type": "stream",
          "text": [
            "Class: Enterococcus.faecalis\n"
          ],
          "name": "stdout"
        },
        {
          "output_type": "display_data",
          "data": {
            "text/html": [
              ""
            ],
            "text/plain": [
              "<IPython.core.display.HTML object>"
            ]
          },
          "metadata": {
            "tags": []
          }
        },
        {
          "output_type": "stream",
          "text": [
            "Class: Enterococcus.faecium\n"
          ],
          "name": "stdout"
        },
        {
          "output_type": "display_data",
          "data": {
            "text/html": [
              ""
            ],
            "text/plain": [
              "<IPython.core.display.HTML object>"
            ]
          },
          "metadata": {
            "tags": []
          }
        },
        {
          "output_type": "stream",
          "text": [
            "Class: Fusobacterium\n"
          ],
          "name": "stdout"
        },
        {
          "output_type": "display_data",
          "data": {
            "text/html": [
              ""
            ],
            "text/plain": [
              "<IPython.core.display.HTML object>"
            ]
          },
          "metadata": {
            "tags": []
          }
        },
        {
          "output_type": "stream",
          "text": [
            "Class: Lactobacillus.casei\n"
          ],
          "name": "stdout"
        },
        {
          "output_type": "display_data",
          "data": {
            "text/html": [
              ""
            ],
            "text/plain": [
              "<IPython.core.display.HTML object>"
            ]
          },
          "metadata": {
            "tags": []
          }
        },
        {
          "output_type": "stream",
          "text": [
            "Class: Lactobacillus.crispatus\n"
          ],
          "name": "stdout"
        },
        {
          "output_type": "display_data",
          "data": {
            "text/html": [
              ""
            ],
            "text/plain": [
              "<IPython.core.display.HTML object>"
            ]
          },
          "metadata": {
            "tags": []
          }
        },
        {
          "output_type": "stream",
          "text": [
            "Class: Lactobacillus.delbrueckii\n"
          ],
          "name": "stdout"
        },
        {
          "output_type": "display_data",
          "data": {
            "text/html": [
              ""
            ],
            "text/plain": [
              "<IPython.core.display.HTML object>"
            ]
          },
          "metadata": {
            "tags": []
          }
        },
        {
          "output_type": "stream",
          "text": [
            "Class: Veionella\n"
          ],
          "name": "stdout"
        },
        {
          "output_type": "display_data",
          "data": {
            "text/html": [
              ""
            ],
            "text/plain": [
              "<IPython.core.display.HTML object>"
            ]
          },
          "metadata": {
            "tags": []
          }
        },
        {
          "output_type": "stream",
          "text": [
            "Class: Lactobacillus.jehnsenii\n"
          ],
          "name": "stdout"
        },
        {
          "output_type": "display_data",
          "data": {
            "text/html": [
              ""
            ],
            "text/plain": [
              "<IPython.core.display.HTML object>"
            ]
          },
          "metadata": {
            "tags": []
          }
        },
        {
          "output_type": "stream",
          "text": [
            "Class: Lactobacillus.gasseri\n"
          ],
          "name": "stdout"
        },
        {
          "output_type": "display_data",
          "data": {
            "text/html": [
              ""
            ],
            "text/plain": [
              "<IPython.core.display.HTML object>"
            ]
          },
          "metadata": {
            "tags": []
          }
        },
        {
          "output_type": "stream",
          "text": [
            "Class: Streptococcus.agalactiae\n"
          ],
          "name": "stdout"
        },
        {
          "output_type": "display_data",
          "data": {
            "text/html": [
              ""
            ],
            "text/plain": [
              "<IPython.core.display.HTML object>"
            ]
          },
          "metadata": {
            "tags": []
          }
        },
        {
          "output_type": "stream",
          "text": [
            "Class: Staphylococcus.saprophiticus\n"
          ],
          "name": "stdout"
        },
        {
          "output_type": "display_data",
          "data": {
            "text/html": [
              ""
            ],
            "text/plain": [
              "<IPython.core.display.HTML object>"
            ]
          },
          "metadata": {
            "tags": []
          }
        },
        {
          "output_type": "stream",
          "text": [
            "Class: Staphylococcus.epidermidis\n"
          ],
          "name": "stdout"
        },
        {
          "output_type": "display_data",
          "data": {
            "text/html": [
              ""
            ],
            "text/plain": [
              "<IPython.core.display.HTML object>"
            ]
          },
          "metadata": {
            "tags": []
          }
        },
        {
          "output_type": "stream",
          "text": [
            "Class: Lactobacillus.paracasei\n"
          ],
          "name": "stdout"
        },
        {
          "output_type": "display_data",
          "data": {
            "text/html": [
              ""
            ],
            "text/plain": [
              "<IPython.core.display.HTML object>"
            ]
          },
          "metadata": {
            "tags": []
          }
        },
        {
          "output_type": "stream",
          "text": [
            "Class: Lactobacillus.johnsonii\n"
          ],
          "name": "stdout"
        },
        {
          "output_type": "display_data",
          "data": {
            "text/html": [
              ""
            ],
            "text/plain": [
              "<IPython.core.display.HTML object>"
            ]
          },
          "metadata": {
            "tags": []
          }
        },
        {
          "output_type": "stream",
          "text": [
            "Class: Lactobacillus.salivarius\n"
          ],
          "name": "stdout"
        },
        {
          "output_type": "display_data",
          "data": {
            "text/html": [
              ""
            ],
            "text/plain": [
              "<IPython.core.display.HTML object>"
            ]
          },
          "metadata": {
            "tags": []
          }
        },
        {
          "output_type": "stream",
          "text": [
            "Class: Lactobacillus.rhamnosus\n"
          ],
          "name": "stdout"
        },
        {
          "output_type": "display_data",
          "data": {
            "text/html": [
              ""
            ],
            "text/plain": [
              "<IPython.core.display.HTML object>"
            ]
          },
          "metadata": {
            "tags": []
          }
        },
        {
          "output_type": "stream",
          "text": [
            "Class: Proteus\n"
          ],
          "name": "stdout"
        },
        {
          "output_type": "display_data",
          "data": {
            "text/html": [
              ""
            ],
            "text/plain": [
              "<IPython.core.display.HTML object>"
            ]
          },
          "metadata": {
            "tags": []
          }
        },
        {
          "output_type": "stream",
          "text": [
            "Class: Lactobacillus.reuteri\n"
          ],
          "name": "stdout"
        },
        {
          "output_type": "display_data",
          "data": {
            "text/html": [
              ""
            ],
            "text/plain": [
              "<IPython.core.display.HTML object>"
            ]
          },
          "metadata": {
            "tags": []
          }
        },
        {
          "output_type": "stream",
          "text": [
            "Class: Neisseria.gonorrhoeae\n"
          ],
          "name": "stdout"
        },
        {
          "output_type": "display_data",
          "data": {
            "text/html": [
              ""
            ],
            "text/plain": [
              "<IPython.core.display.HTML object>"
            ]
          },
          "metadata": {
            "tags": []
          }
        },
        {
          "output_type": "stream",
          "text": [
            "Class: Propionibacterium.acnes\n"
          ],
          "name": "stdout"
        },
        {
          "output_type": "display_data",
          "data": {
            "text/html": [
              ""
            ],
            "text/plain": [
              "<IPython.core.display.HTML object>"
            ]
          },
          "metadata": {
            "tags": []
          }
        },
        {
          "output_type": "stream",
          "text": [
            "Class: Porfyromonas.gingivalis\n"
          ],
          "name": "stdout"
        },
        {
          "output_type": "display_data",
          "data": {
            "text/html": [
              ""
            ],
            "text/plain": [
              "<IPython.core.display.HTML object>"
            ]
          },
          "metadata": {
            "tags": []
          }
        },
        {
          "output_type": "stream",
          "text": [
            "Class: Micrococcus.spp\n"
          ],
          "name": "stdout"
        },
        {
          "output_type": "display_data",
          "data": {
            "text/html": [
              ""
            ],
            "text/plain": [
              "<IPython.core.display.HTML object>"
            ]
          },
          "metadata": {
            "tags": []
          }
        },
        {
          "output_type": "stream",
          "text": [
            "Class: Listeria.monocytogenes\n"
          ],
          "name": "stdout"
        },
        {
          "output_type": "display_data",
          "data": {
            "text/html": [
              ""
            ],
            "text/plain": [
              "<IPython.core.display.HTML object>"
            ]
          },
          "metadata": {
            "tags": []
          }
        },
        {
          "output_type": "stream",
          "text": [
            "Class: Lactobacillus.plantarum\n"
          ],
          "name": "stdout"
        },
        {
          "output_type": "display_data",
          "data": {
            "text/html": [
              ""
            ],
            "text/plain": [
              "<IPython.core.display.HTML object>"
            ]
          },
          "metadata": {
            "tags": []
          }
        },
        {
          "output_type": "stream",
          "text": [
            "Class: Staphylococcus.aureus\n"
          ],
          "name": "stdout"
        },
        {
          "output_type": "display_data",
          "data": {
            "text/html": [
              ""
            ],
            "text/plain": [
              "<IPython.core.display.HTML object>"
            ]
          },
          "metadata": {
            "tags": []
          }
        },
        {
          "output_type": "stream",
          "text": [
            "Class: Pseudomonas.aeruginosa\n"
          ],
          "name": "stdout"
        },
        {
          "output_type": "display_data",
          "data": {
            "text/html": [
              ""
            ],
            "text/plain": [
              "<IPython.core.display.HTML object>"
            ]
          },
          "metadata": {
            "tags": []
          }
        }
      ]
    },
    {
      "cell_type": "code",
      "metadata": {
        "id": "YyYmFeyKlDHN",
        "outputId": "eba174f9-af15-458e-8787-b50b91cccb11",
        "colab": {
          "base_uri": "https://localhost:8080/",
          "height": 34
        }
      },
      "source": [
        "data  = ImageDataBunch.from_folder(PATH, ds_tfms=get_transforms(), size=sz, bs=bs, valid_pct=0.15).normalize(imagenet_stats)\n",
        "\n",
        "print (\"There are\", len(data.train_ds), \"training images and\", len(data.valid_ds), \"validation images.\" )"
      ],
      "execution_count": null,
      "outputs": [
        {
          "output_type": "stream",
          "text": [
            "There are 586 training images and 103 validation images.\n"
          ],
          "name": "stdout"
        }
      ]
    },
    {
      "cell_type": "code",
      "metadata": {
        "id": "-_F-eV_IlIBA",
        "outputId": "a554b49d-8820-406e-e9da-5c9bae006f9f",
        "colab": {
          "base_uri": "https://localhost:8080/",
          "height": 534
        }
      },
      "source": [
        "data.show_batch(rows=3, figsize=(7,8))"
      ],
      "execution_count": null,
      "outputs": [
        {
          "output_type": "display_data",
          "data": {
            "image/png": "[encoded data removed]",
            "text/plain": [
              "<Figure size 504x576 with 9 Axes>"
            ]
          },
          "metadata": {
            "tags": []
          }
        }
      ]
    },
    {
      "cell_type": "code",
      "metadata": {
        "id": "Y15F6TajlL0N",
        "outputId": "ec7b985a-7cb7-433b-95fc-95f0c36f2efb",
        "colab": {
          "base_uri": "https://localhost:8080/",
          "height": 104,
          "referenced_widgets": [
            "c90a0c908e1c4459856f705e85da9663",
            "2adb824ce5e04bbca520d166d2b7dcba",
            "45ed3b114b7c440289a46b0d4b005e35",
            "899daa551fd94db590670c31238945f9",
            "8dd46f8308f3476798435cc78c9a4374",
            "19226605edd6472199dd53117811a968",
            "c25c2798414748daa75e5518db4e58bb",
            "3f1bdd44031f4640a06a4a9feb9f2a5b"
          ]
        }
      },
      "source": [
        "learn = cnn_learner(data, models.resnet34, metrics=accuracy, callback_fns=ShowGraph)"
      ],
      "execution_count": null,
      "outputs": [
        {
          "output_type": "stream",
          "text": [
            "Downloading: \"https://download.pytorch.org/models/resnet34-333f7ec4.pth\" to /root/.cache/torch/checkpoints/resnet34-333f7ec4.pth\n"
          ],
          "name": "stderr"
        },
        {
          "output_type": "display_data",
          "data": {
            "application/vnd.jupyter.widget-view+json": {
              "model_id": "c90a0c908e1c4459856f705e85da9663",
              "version_minor": 0,
              "version_major": 2
            },
            "text/plain": [
              "HBox(children=(IntProgress(value=0, max=87306240), HTML(value='')))"
            ]
          },
          "metadata": {
            "tags": []
          }
        },
        {
          "output_type": "stream",
          "text": [
            "\n"
          ],
          "name": "stdout"
        }
      ]
    },
    {
      "cell_type": "code",
      "metadata": {
        "id": "RwbTatzZ03dl",
        "outputId": "a818bd75-507b-445a-eb1a-c88829715a1b",
        "colab": {
          "base_uri": "https://localhost:8080/",
          "height": 1000
        }
      },
      "source": [
        "learn.fit_one_cycle(50)"
      ],
      "execution_count": null,
      "outputs": [
        {
          "output_type": "display_data",
          "data": {
            "text/html": [
              "<table border=\"1\" class=\"dataframe\">\n",
              "  <thead>\n",
              "    <tr style=\"text-align: left;\">\n",
              "      <th>epoch</th>\n",
              "      <th>train_loss</th>\n",
              "      <th>valid_loss</th>\n",
              "      <th>accuracy</th>\n",
              "      <th>time</th>\n",
              "    </tr>\n",
              "  </thead>\n",
              "  <tbody>\n",
              "    <tr>\n",
              "      <td>0</td>\n",
              "      <td>5.038053</td>\n",
              "      <td>3.370200</td>\n",
              "      <td>0.126214</td>\n",
              "      <td>02:41</td>\n",
              "    </tr>\n",
              "    <tr>\n",
              "      <td>1</td>\n",
              "      <td>4.388378</td>\n",
              "      <td>2.244565</td>\n",
              "      <td>0.407767</td>\n",
              "      <td>02:36</td>\n",
              "    </tr>\n",
              "    <tr>\n",
              "      <td>2</td>\n",
              "      <td>3.621612</td>\n",
              "      <td>1.258901</td>\n",
              "      <td>0.640777</td>\n",
              "      <td>02:30</td>\n",
              "    </tr>\n",
              "    <tr>\n",
              "      <td>3</td>\n",
              "      <td>2.892446</td>\n",
              "      <td>0.756810</td>\n",
              "      <td>0.766990</td>\n",
              "      <td>02:22</td>\n",
              "    </tr>\n",
              "    <tr>\n",
              "      <td>4</td>\n",
              "      <td>2.236786</td>\n",
              "      <td>0.543480</td>\n",
              "      <td>0.805825</td>\n",
              "      <td>02:16</td>\n",
              "    </tr>\n",
              "    <tr>\n",
              "      <td>5</td>\n",
              "      <td>1.765772</td>\n",
              "      <td>0.307155</td>\n",
              "      <td>0.922330</td>\n",
              "      <td>02:14</td>\n",
              "    </tr>\n",
              "    <tr>\n",
              "      <td>6</td>\n",
              "      <td>1.427132</td>\n",
              "      <td>0.307216</td>\n",
              "      <td>0.893204</td>\n",
              "      <td>02:12</td>\n",
              "    </tr>\n",
              "    <tr>\n",
              "      <td>7</td>\n",
              "      <td>1.167519</td>\n",
              "      <td>0.253007</td>\n",
              "      <td>0.932039</td>\n",
              "      <td>02:12</td>\n",
              "    </tr>\n",
              "    <tr>\n",
              "      <td>8</td>\n",
              "      <td>0.953265</td>\n",
              "      <td>0.179979</td>\n",
              "      <td>0.941748</td>\n",
              "      <td>02:10</td>\n",
              "    </tr>\n",
              "    <tr>\n",
              "      <td>9</td>\n",
              "      <td>0.771016</td>\n",
              "      <td>0.213185</td>\n",
              "      <td>0.922330</td>\n",
              "      <td>02:09</td>\n",
              "    </tr>\n",
              "    <tr>\n",
              "      <td>10</td>\n",
              "      <td>0.670326</td>\n",
              "      <td>0.202078</td>\n",
              "      <td>0.932039</td>\n",
              "      <td>02:08</td>\n",
              "    </tr>\n",
              "    <tr>\n",
              "      <td>11</td>\n",
              "      <td>0.581797</td>\n",
              "      <td>0.197625</td>\n",
              "      <td>0.941748</td>\n",
              "      <td>02:08</td>\n",
              "    </tr>\n",
              "    <tr>\n",
              "      <td>12</td>\n",
              "      <td>0.491994</td>\n",
              "      <td>0.233847</td>\n",
              "      <td>0.941748</td>\n",
              "      <td>02:09</td>\n",
              "    </tr>\n",
              "    <tr>\n",
              "      <td>13</td>\n",
              "      <td>0.464286</td>\n",
              "      <td>0.210403</td>\n",
              "      <td>0.951456</td>\n",
              "      <td>02:11</td>\n",
              "    </tr>\n",
              "    <tr>\n",
              "      <td>14</td>\n",
              "      <td>0.418178</td>\n",
              "      <td>0.292278</td>\n",
              "      <td>0.932039</td>\n",
              "      <td>02:09</td>\n",
              "    </tr>\n",
              "    <tr>\n",
              "      <td>15</td>\n",
              "      <td>0.378736</td>\n",
              "      <td>0.147487</td>\n",
              "      <td>0.961165</td>\n",
              "      <td>02:10</td>\n",
              "    </tr>\n",
              "    <tr>\n",
              "      <td>16</td>\n",
              "      <td>0.347796</td>\n",
              "      <td>0.261610</td>\n",
              "      <td>0.912621</td>\n",
              "      <td>02:12</td>\n",
              "    </tr>\n",
              "    <tr>\n",
              "      <td>17</td>\n",
              "      <td>0.330595</td>\n",
              "      <td>0.188826</td>\n",
              "      <td>0.951456</td>\n",
              "      <td>02:10</td>\n",
              "    </tr>\n",
              "    <tr>\n",
              "      <td>18</td>\n",
              "      <td>0.305144</td>\n",
              "      <td>0.145499</td>\n",
              "      <td>0.951456</td>\n",
              "      <td>02:12</td>\n",
              "    </tr>\n",
              "    <tr>\n",
              "      <td>19</td>\n",
              "      <td>0.310073</td>\n",
              "      <td>0.195077</td>\n",
              "      <td>0.922330</td>\n",
              "      <td>02:10</td>\n",
              "    </tr>\n",
              "    <tr>\n",
              "      <td>20</td>\n",
              "      <td>0.284306</td>\n",
              "      <td>0.117832</td>\n",
              "      <td>0.961165</td>\n",
              "      <td>02:10</td>\n",
              "    </tr>\n",
              "    <tr>\n",
              "      <td>21</td>\n",
              "      <td>0.264972</td>\n",
              "      <td>0.178759</td>\n",
              "      <td>0.961165</td>\n",
              "      <td>02:10</td>\n",
              "    </tr>\n",
              "    <tr>\n",
              "      <td>22</td>\n",
              "      <td>0.249588</td>\n",
              "      <td>0.057658</td>\n",
              "      <td>0.990291</td>\n",
              "      <td>02:07</td>\n",
              "    </tr>\n",
              "    <tr>\n",
              "      <td>23</td>\n",
              "      <td>0.213023</td>\n",
              "      <td>0.045180</td>\n",
              "      <td>0.990291</td>\n",
              "      <td>02:09</td>\n",
              "    </tr>\n",
              "    <tr>\n",
              "      <td>24</td>\n",
              "      <td>0.216188</td>\n",
              "      <td>0.102522</td>\n",
              "      <td>0.961165</td>\n",
              "      <td>02:10</td>\n",
              "    </tr>\n",
              "    <tr>\n",
              "      <td>25</td>\n",
              "      <td>0.210351</td>\n",
              "      <td>0.077780</td>\n",
              "      <td>0.970874</td>\n",
              "      <td>02:10</td>\n",
              "    </tr>\n",
              "    <tr>\n",
              "      <td>26</td>\n",
              "      <td>0.197551</td>\n",
              "      <td>0.068376</td>\n",
              "      <td>0.970874</td>\n",
              "      <td>02:10</td>\n",
              "    </tr>\n",
              "    <tr>\n",
              "      <td>27</td>\n",
              "      <td>0.192670</td>\n",
              "      <td>0.143468</td>\n",
              "      <td>0.941748</td>\n",
              "      <td>02:12</td>\n",
              "    </tr>\n",
              "    <tr>\n",
              "      <td>28</td>\n",
              "      <td>0.180802</td>\n",
              "      <td>0.024668</td>\n",
              "      <td>1.000000</td>\n",
              "      <td>02:13</td>\n",
              "    </tr>\n",
              "    <tr>\n",
              "      <td>29</td>\n",
              "      <td>0.178689</td>\n",
              "      <td>0.108499</td>\n",
              "      <td>0.970874</td>\n",
              "      <td>02:08</td>\n",
              "    </tr>\n",
              "    <tr>\n",
              "      <td>30</td>\n",
              "      <td>0.179877</td>\n",
              "      <td>0.117576</td>\n",
              "      <td>0.961165</td>\n",
              "      <td>02:11</td>\n",
              "    </tr>\n",
              "    <tr>\n",
              "      <td>31</td>\n",
              "      <td>0.150046</td>\n",
              "      <td>0.107256</td>\n",
              "      <td>0.961165</td>\n",
              "      <td>02:12</td>\n",
              "    </tr>\n",
              "    <tr>\n",
              "      <td>32</td>\n",
              "      <td>0.151975</td>\n",
              "      <td>0.127529</td>\n",
              "      <td>0.951456</td>\n",
              "      <td>02:12</td>\n",
              "    </tr>\n",
              "    <tr>\n",
              "      <td>33</td>\n",
              "      <td>0.145003</td>\n",
              "      <td>0.098746</td>\n",
              "      <td>0.970874</td>\n",
              "      <td>02:08</td>\n",
              "    </tr>\n",
              "    <tr>\n",
              "      <td>34</td>\n",
              "      <td>0.124687</td>\n",
              "      <td>0.060658</td>\n",
              "      <td>0.970874</td>\n",
              "      <td>02:11</td>\n",
              "    </tr>\n",
              "    <tr>\n",
              "      <td>35</td>\n",
              "      <td>0.129729</td>\n",
              "      <td>0.088048</td>\n",
              "      <td>0.961165</td>\n",
              "      <td>02:13</td>\n",
              "    </tr>\n",
              "    <tr>\n",
              "      <td>36</td>\n",
              "      <td>0.129497</td>\n",
              "      <td>0.066766</td>\n",
              "      <td>0.961165</td>\n",
              "      <td>02:12</td>\n",
              "    </tr>\n",
              "    <tr>\n",
              "      <td>37</td>\n",
              "      <td>0.112210</td>\n",
              "      <td>0.061155</td>\n",
              "      <td>0.970874</td>\n",
              "      <td>02:12</td>\n",
              "    </tr>\n",
              "    <tr>\n",
              "      <td>38</td>\n",
              "      <td>0.104738</td>\n",
              "      <td>0.062929</td>\n",
              "      <td>0.970874</td>\n",
              "      <td>02:12</td>\n",
              "    </tr>\n",
              "    <tr>\n",
              "      <td>39</td>\n",
              "      <td>0.093524</td>\n",
              "      <td>0.060728</td>\n",
              "      <td>0.970874</td>\n",
              "      <td>02:14</td>\n",
              "    </tr>\n",
              "    <tr>\n",
              "      <td>40</td>\n",
              "      <td>0.092991</td>\n",
              "      <td>0.064966</td>\n",
              "      <td>0.970874</td>\n",
              "      <td>02:14</td>\n",
              "    </tr>\n",
              "    <tr>\n",
              "      <td>41</td>\n",
              "      <td>0.082913</td>\n",
              "      <td>0.056865</td>\n",
              "      <td>0.970874</td>\n",
              "      <td>02:15</td>\n",
              "    </tr>\n",
              "    <tr>\n",
              "      <td>42</td>\n",
              "      <td>0.096873</td>\n",
              "      <td>0.057178</td>\n",
              "      <td>0.970874</td>\n",
              "      <td>02:15</td>\n",
              "    </tr>\n",
              "    <tr>\n",
              "      <td>43</td>\n",
              "      <td>0.103544</td>\n",
              "      <td>0.058609</td>\n",
              "      <td>0.970874</td>\n",
              "      <td>02:14</td>\n",
              "    </tr>\n",
              "    <tr>\n",
              "      <td>44</td>\n",
              "      <td>0.101413</td>\n",
              "      <td>0.054568</td>\n",
              "      <td>0.980583</td>\n",
              "      <td>02:11</td>\n",
              "    </tr>\n",
              "    <tr>\n",
              "      <td>45</td>\n",
              "      <td>0.093963</td>\n",
              "      <td>0.070835</td>\n",
              "      <td>0.970874</td>\n",
              "      <td>02:09</td>\n",
              "    </tr>\n",
              "    <tr>\n",
              "      <td>46</td>\n",
              "      <td>0.087834</td>\n",
              "      <td>0.069974</td>\n",
              "      <td>0.970874</td>\n",
              "      <td>02:11</td>\n",
              "    </tr>\n",
              "    <tr>\n",
              "      <td>47</td>\n",
              "      <td>0.086788</td>\n",
              "      <td>0.066856</td>\n",
              "      <td>0.970874</td>\n",
              "      <td>02:11</td>\n",
              "    </tr>\n",
              "    <tr>\n",
              "      <td>48</td>\n",
              "      <td>0.087970</td>\n",
              "      <td>0.057108</td>\n",
              "      <td>0.970874</td>\n",
              "      <td>02:15</td>\n",
              "    </tr>\n",
              "    <tr>\n",
              "      <td>49</td>\n",
              "      <td>0.085422</td>\n",
              "      <td>0.059665</td>\n",
              "      <td>0.970874</td>\n",
              "      <td>02:13</td>\n",
              "    </tr>\n",
              "  </tbody>\n",
              "</table>"
            ],
            "text/plain": [
              "<IPython.core.display.HTML object>"
            ]
          },
          "metadata": {
            "tags": []
          }
        },
        {
          "output_type": "display_data",
          "data": {
            "image/png": "[encoded data removed]",
            "text/plain": [
              "<Figure size 432x288 with 1 Axes>"
            ]
          },
          "metadata": {
            "tags": []
          }
        }
      ]
    },
    {
      "cell_type": "code",
      "metadata": {
        "id": "sEdGDciB0ag0",
        "outputId": "8a4dcac8-3c83-42c0-de12-745f5e231a30",
        "colab": {
          "base_uri": "https://localhost:8080/",
          "height": 1000
        }
      },
      "source": [
        "learn.recorder.lrs"
      ],
      "execution_count": null,
      "outputs": [
        {
          "output_type": "execute_result",
          "data": {
            "text/plain": [
              "[0.00012,\n",
              " 0.00012009747647458201,\n",
              " 0.00012038989270157525,\n",
              " 0.0001208772090925017,\n",
              " 0.00012155935967252422,\n",
              " 0.00012243625208937375,\n",
              " 0.0001235077676258532,\n",
              " 0.00012477376121591095,\n",
              " 0.00012623406146428182,\n",
              " 0.00012788847066968643,\n",
              " 0.00012973676485160185,\n",
              " 0.00013177869378058326,\n",
              " 0.00013401398101213838,\n",
              " 0.00013644232392415927,\n",
              " 0.0001390633937578857,\n",
              " 0.00014187683566242032,\n",
              " 0.00014488226874276484,\n",
              " 0.00014807928611138953,\n",
              " 0.00015146745494331974,\n",
              " 0.00015504631653473142,\n",
              " 0.00015881538636505375,\n",
              " 0.00016277415416256517,\n",
              " 0.00016692208397347608,\n",
              " 0.00017125861423448758,\n",
              " 0.0001757831578488205,\n",
              " 0.00018049510226569605,\n",
              " 0.00018539380956326566,\n",
              " 0.00019047861653497845,\n",
              " 0.0001957488347793658,\n",
              " 0.0002012037507932397,\n",
              " 0.00020684262606829188,\n",
              " 0.0002126646971910744,\n",
              " 0.0002186691759463546,\n",
              " 0.00022485524942382614,\n",
              " 0.0002312220801281629,\n",
              " 0.00023776880609240525,\n",
              " 0.00024449454099465494,\n",
              " 0.0002513983742780672,\n",
              " 0.0002584793712741302,\n",
              " 0.00026573657332919914,\n",
              " 0.00027316899793428627,\n",
              " 0.0002807756388580741,\n",
              " 0.00028855546628314514,\n",
              " 0.0002965074269454019,\n",
              " 0.0003046304442766621,\n",
              " 0.000312923418550408,\n",
              " 0.00032138522703067333,\n",
              " 0.00033001472412404285,\n",
              " 0.0003388107415347465,\n",
              " 0.00034777208842282905,\n",
              " 0.0003568975515653712,\n",
              " 0.0003661858955207398,\n",
              " 0.0003756358627958461,\n",
              " 0.0003852461740163921,\n",
              " 0.0003950155281000757,\n",
              " 0.00040494260243273666,\n",
              " 0.0004150260530474191,\n",
              " 0.0004252645148063207,\n",
              " 0.0004356566015856103,\n",
              " 0.000446200906463092,\n",
              " 0.0004568960019086716,\n",
              " 0.00046774043997762846,\n",
              " 0.0004787327525066407,\n",
              " 0.0004898714513125522,\n",
              " 0.0005011550283938464,\n",
              " 0.0005125819561348096,\n",
              " 0.0005241506875123423,\n",
              " 0.0005358596563054025,\n",
              " 0.0005477072773070468,\n",
              " 0.0005596919465390439,\n",
              " 0.0005718120414690232,\n",
              " 0.000584065921230145,\n",
              " 0.0005964519268432441,\n",
              " 0.0006089683814414289,\n",
              " 0.0006216135904971044,\n",
              " 0.0006343858420513834,\n",
              " 0.0006472834069458575,\n",
              " 0.0006603045390566973,\n",
              " 0.0006734474755310522,\n",
              " 0.0006867104370257083,\n",
              " 0.0007000916279479878,\n",
              " 0.0007135892366988386,\n",
              " 0.0007272014359180996,\n",
              " 0.0007409263827318933,\n",
              " 0.0007547622190021246,\n",
              " 0.000768707071578039,\n",
              " 0.0007827590525498213,\n",
              " 0.000796916259504185,\n",
              " 0.0008111767757819298,\n",
              " 0.0008255386707374276,\n",
              " 0.00084,\n",
              " 0.0008545588057371546,\n",
              " 0.0008692131169196452,\n",
              " 0.0008839609495883173,\n",
              " 0.0008988003071227031,\n",
              " 0.0009137291805113345,\n",
              " 0.0009287455486237284,\n",
              " 0.0009438473784840178,\n",
              " 0.000959032625546182,\n",
              " 0.0009742992339708476,\n",
              " 0.0009896451369036142,\n",
              " 0.0010050682567548743,\n",
              " 0.0010205665054810863,\n",
              " 0.0010361377848674617,\n",
              " 0.0010517799868120289,\n",
              " 0.0010674909936110367,\n",
              " 0.0010832686782456602,\n",
              " 0.001099110904669961,\n",
              " 0.0011150155281000756,\n",
              " 0.0011309803953045861,\n",
              " 0.0011470033448960299,\n",
              " 0.0011630822076235212,\n",
              " 0.0011792148066664286,\n",
              " 0.001195398957929085,\n",
              " 0.0012116324703364786,\n",
              " 0.0012279131461308862,\n",
              " 0.0012442387811694192,\n",
              " 0.0012606071652224268,\n",
              " 0.0012770160822727246,\n",
              " 0.001293463310815611,\n",
              " 0.00130994662415962,\n",
              " 0.0013264637907279826,\n",
              " 0.0013430125743607443,\n",
              " 0.0013595907346175059,\n",
              " 0.0013761960270807434,\n",
              " 0.0013928262036596683,\n",
              " 0.0014094790128945788,\n",
              " 0.0014261522002616748,\n",
              " 0.001442843508478284,\n",
              " 0.0014595506778084597,\n",
              " 0.0014762714463689148,\n",
              " 0.0014930035504352444,\n",
              " 0.0015097447247483984,\n",
              " 0.001526492702821359,\n",
              " 0.001543245217245988,\n",
              " 0.00156,\n",
              " 0.0015767547827540114,\n",
              " 0.001593507297178641,\n",
              " 0.001610255275251601,\n",
              " 0.0016269964495647551,\n",
              " 0.001643728553631085,\n",
              " 0.0016604493221915404,\n",
              " 0.0016771564915217156,\n",
              " 0.0016938477997383247,\n",
              " 0.0017105209871054207,\n",
              " 0.0017271737963403318,\n",
              " 0.0017438039729192562,\n",
              " 0.0017604092653824939,\n",
              " 0.0017769874256392557,\n",
              " 0.001793536209272017,\n",
              " 0.0018100533758403797,\n",
              " 0.0018265366891843887,\n",
              " 0.0018429839177272755,\n",
              " 0.001859392834777573,\n",
              " 0.001875761218830581,\n",
              " 0.0018920868538691137,\n",
              " 0.0019083675296635214,\n",
              " 0.0019246010420709144,\n",
              " 0.0019407851933335707,\n",
              " 0.0019569177923764785,\n",
              " 0.0019729966551039696,\n",
              " 0.0019890196046954143,\n",
              " 0.002004984471899924,\n",
              " 0.002020889095330039,\n",
              " 0.0020367313217543393,\n",
              " 0.002052509006388963,\n",
              " 0.002068220013187971,\n",
              " 0.0020838622151325378,\n",
              " 0.002099433494518913,\n",
              " 0.0021149317432451256,\n",
              " 0.002130354863096386,\n",
              " 0.002145700766029152,\n",
              " 0.0021609673744538175,\n",
              " 0.0021761526215159817,\n",
              " 0.0021912544513762715,\n",
              " 0.0022062708194886655,\n",
              " 0.0022211996928772973,\n",
              " 0.002236039050411682,\n",
              " 0.002250786883080354,\n",
              " 0.0022654411942628454,\n",
              " 0.00228,\n",
              " 0.0022944613292625723,\n",
              " 0.00230882322421807,\n",
              " 0.002323083740495815,\n",
              " 0.002337240947450178,\n",
              " 0.0023512929284219605,\n",
              " 0.0023652377809978754,\n",
              " 0.002379073617268106,\n",
              " 0.0023927985640819008,\n",
              " 0.0024064107633011613,\n",
              " 0.0024199083720520117,\n",
              " 0.002433289562974291,\n",
              " 0.0024465525244689477,\n",
              " 0.002459695460943302,\n",
              " 0.002472716593054143,\n",
              " 0.0024856141579486166,\n",
              " 0.0024983864095028956,\n",
              " 0.002511031618558571,\n",
              " 0.0025235480731567554,\n",
              " 0.0025359340787698545,\n",
              " 0.0025481879585309763,\n",
              " 0.002560308053460956,\n",
              " 0.002572292722692953,\n",
              " 0.0025841403436945975,\n",
              " 0.0025958493124876576,\n",
              " 0.0026074180438651904,\n",
              " 0.002618844971606153,\n",
              " 0.0026301285486874477,\n",
              " 0.002641267247493359,\n",
              " 0.002652259560022371,\n",
              " 0.0026631039980913283,\n",
              " 0.002673799093536908,\n",
              " 0.002684343398414389,\n",
              " 0.0026947354851936797,\n",
              " 0.002704973946952581,\n",
              " 0.0027150573975672633,\n",
              " 0.0027249844718999243,\n",
              " 0.0027347538259836074,\n",
              " 0.002744364137204154,\n",
              " 0.00275381410447926,\n",
              " 0.0027631024484346283,\n",
              " 0.002772227911577171,\n",
              " 0.0027811892584652534,\n",
              " 0.0027899852758759567,\n",
              " 0.002798614772969326,\n",
              " 0.002807076581449592,\n",
              " 0.002815369555723338,\n",
              " 0.002823492573054598,\n",
              " 0.002831444533716855,\n",
              " 0.002839224361141926,\n",
              " 0.0028468310020657137,\n",
              " 0.0028542634266708004,\n",
              " 0.0028615206287258698,\n",
              " 0.0028686016257219327,\n",
              " 0.0028755054590053454,\n",
              " 0.0028822311939075943,\n",
              " 0.002888777919871837,\n",
              " 0.002895144750576174,\n",
              " 0.0029013308240536453,\n",
              " 0.002907335302808925,\n",
              " 0.002913157373931708,\n",
              " 0.0029187962492067602,\n",
              " 0.002924251165220634,\n",
              " 0.002929521383465021,\n",
              " 0.002934606190436734,\n",
              " 0.002939504897734304,\n",
              " 0.0029442168421511795,\n",
              " 0.002948741385765512,\n",
              " 0.002953077916026524,\n",
              " 0.0029572258458374348,\n",
              " 0.002961184613634946,\n",
              " 0.0029649536834652685,\n",
              " 0.00296853254505668,\n",
              " 0.0029719207138886104,\n",
              " 0.002975117731257235,\n",
              " 0.0029781231643375796,\n",
              " 0.0029809366062421142,\n",
              " 0.0029835576760758407,\n",
              " 0.0029859860189878616,\n",
              " 0.0029882213062194167,\n",
              " 0.002990263235148398,\n",
              " 0.0029921115293303135,\n",
              " 0.002993765938535718,\n",
              " 0.002995226238784089,\n",
              " 0.0029964922323741467,\n",
              " 0.002997563747910626,\n",
              " 0.0029984406403274753,\n",
              " 0.002999122790907498,\n",
              " 0.002999610107298425,\n",
              " 0.0029999025235254175,\n",
              " 0.003,\n",
              " 0.0029999813500671377,\n",
              " 0.002999925400732313,\n",
              " 0.0029998321533867994,\n",
              " 0.0029997016103493488,\n",
              " 0.0029995337748661326,\n",
              " 0.0029993286511106614,\n",
              " 0.0029990862441836817,\n",
              " 0.0029988065601130477,\n",
              " 0.002998489605853573,\n",
              " 0.002998135389286856,\n",
              " 0.002997743919221087,\n",
              " 0.002997315205390824,\n",
              " 0.002996849258456756,\n",
              " 0.002996346090005435,\n",
              " 0.002995805712548987,\n",
              " 0.002995228139524805,\n",
              " 0.002994613385295209,\n",
              " 0.0029939614651470947,\n",
              " 0.002993272395291549,\n",
              " 0.00299254619286345,\n",
              " 0.0029917828759210376,\n",
              " 0.0029909824634454683,\n",
              " 0.00299014497534034,\n",
              " 0.002989270432431198,\n",
              " 0.0029883588564650187,\n",
              " 0.002987410270109666,\n",
              " 0.0029864246969533315,\n",
              " 0.0029854021615039433,\n",
              " 0.0029843426891885596,\n",
              " 0.0029832463063527354,\n",
              " 0.0029821130402598694,\n",
              " 0.0029809429190905223,\n",
              " 0.0029797359719417184,\n",
              " 0.0029784922288262233,\n",
              " 0.0029772117206717944,\n",
              " 0.002975894479320413,\n",
              " 0.0029745405375274946,\n",
              " 0.002973149928961072,\n",
              " 0.0029717226882009585,\n",
              " 0.002970258850737889,\n",
              " 0.0029687584529726353,\n",
              " 0.0029672215322151044,\n",
              " 0.002965648126683407,\n",
              " 0.00296403827550291,\n",
              " 0.002962392018705262,\n",
              " 0.002960709397227399,\n",
              " 0.002958990452910525,\n",
              " 0.002957235228499071,\n",
              " 0.002955443767639637,\n",
              " 0.0029536161148798995,\n",
              " 0.0029517523156675093,\n",
              " 0.0029498524163489577,\n",
              " 0.0029479164641684277,\n",
              " 0.0029459445072666157,\n",
              " 0.0029439365946795364,\n",
              " 0.002941892776337303,\n",
              " 0.0029398131030628845,\n",
              " 0.0029376976265708442,\n",
              " 0.002935546399466052,\n",
              " 0.0029333594752423767,\n",
              " 0.002931136908281355,\n",
              " 0.0029288787538508418,\n",
              " 0.0029265850681036328,\n",
              " 0.002924255908076069,\n",
              " 0.0029218913316866207,\n",
              " 0.0029194913977344437,\n",
              " 0.002917056165897919,\n",
              " 0.0029145856967331706,\n",
              " 0.002912080051672555,\n",
              " 0.002909539293023138,\n",
              " 0.0029069634839651434,\n",
              " 0.002904352688550382,\n",
              " 0.002901706971700659,\n",
              " 0.0028990263992061606,\n",
              " 0.0028963110377238145,\n",
              " 0.0028935609547756378,\n",
              " 0.0028907762187470537,\n",
              " 0.002887956898885192,\n",
              " 0.002885103065297169,\n",
              " 0.0028822147889483404,\n",
              " 0.002879292141660541,\n",
              " 0.002876335196110295,\n",
              " 0.002873344025827012,\n",
              " 0.002870318705191155,\n",
              " 0.002867259309432396,\n",
              " 0.002864165914627738,\n",
              " 0.00286103859769963,\n",
              " 0.0028578774364140507,\n",
              " 0.0028546825093785752,\n",
              " 0.002851453896040421,\n",
              " 0.0028481916766844727,\n",
              " 0.0028448959324312833,\n",
              " 0.0028415667452350592,\n",
              " 0.0028382041978816225,\n",
              " 0.0028348083739863504,\n",
              " 0.0028313793579920975,\n",
              " 0.002827917235167095,\n",
              " 0.0028244220916028334,\n",
              " 0.002820894014211916,\n",
              " 0.0028173330907259025,\n",
              " 0.002813739409693126,\n",
              " 0.002810113060476491,\n",
              " 0.0028064541332512498,\n",
              " 0.0028027627190027635,\n",
              " 0.0027990389095242357,\n",
              " 0.0027952827974144323,\n",
              " 0.002791494476075379,\n",
              " 0.0027876740397100377,\n",
              " 0.0027838215833199636,\n",
              " 0.0027799372027029435,\n",
              " 0.0027760209944506153,\n",
              " 0.002772073055946062,\n",
              " 0.0027680934853613944,\n",
              " 0.002764082381655307,\n",
              " 0.0027600398445706185,\n",
              " 0.002755965974631791,\n",
              " 0.0027518608731424317,\n",
              " 0.0027477246421827714,\n",
              " 0.002743557384607127,\n",
              " 0.0027393592040413466,\n",
              " 0.0027351302048802275,\n",
              " 0.0027308704922849245,\n",
              " 0.002726580172180333,\n",
              " 0.0027222593512524567,\n",
              " 0.002717908136945751,\n",
              " 0.002713526637460455,\n",
              " 0.0027091149617499005,\n",
              " 0.0027046732195178,\n",
              " 0.0027002015212155214,\n",
              " 0.0026956999780393407,\n",
              " 0.0026911687019276756,\n",
              " 0.0026866078055583042,\n",
              " 0.002682017402345561,\n",
              " 0.0026773976064375198,\n",
              " 0.00267274853271315,\n",
              " 0.002668070296779465,\n",
              " 0.002663363014968645,\n",
              " 0.002658626804335144,\n",
              " 0.002653861782652781,\n",
              " 0.0026490680684118084,\n",
              " 0.0026442457808159687,\n",
              " 0.002639395039779528,\n",
              " 0.002634515965924294,\n",
              " 0.0026296086805766205,\n",
              " 0.0026246733057643835,\n",
              " 0.002619709964213953,\n",
              " 0.0026147187793471387,\n",
              " 0.0026096998752781196,\n",
              " 0.0026046533768103617,\n",
              " 0.0025995794094335082,\n",
              " 0.0025944780993202676,\n",
              " 0.002589349573323267,\n",
              " 0.0025841939589719043,\n",
              " 0.002579011384469175,\n",
              " 0.0025738019786884824,\n",
              " 0.002568565871170436,\n",
              " 0.0025633031921196278,\n",
              " 0.0025580140724013956,\n",
              " 0.00255269864353857,\n",
              " 0.002547357037708201,\n",
              " 0.002541989387738273,\n",
              " 0.002536595827104403,\n",
              " 0.0025311764899265186,\n",
              " 0.0025257315109655245,\n",
              " 0.002520261025619952,\n",
              " 0.002514765169922592,\n",
              " 0.0025092440805371094,\n",
              " 0.0025036978947546493,\n",
              " 0.0024981267504904196,\n",
              " 0.0024925307862802637,\n",
              " 0.0024869101412772136,\n",
              " 0.002481264955248031,\n",
              " 0.002475595368569731,\n",
              " 0.0024699015222260923,\n",
              " 0.002464183557804151,\n",
              " 0.002458441617490679,\n",
              " 0.0024526758440686493,\n",
              " 0.002446886380913685,\n",
              " 0.0024410733719904937,\n",
              " 0.0024352369618492894,\n",
              " 0.002429377295622195,\n",
              " 0.0024234945190196354,\n",
              " 0.0024175887783267147,\n",
              " 0.002411660220399577,\n",
              " 0.0024057089926617543,\n",
              " 0.002399735243100503,\n",
              " 0.00239373912026312,\n",
              " 0.002387720773253255,\n",
              " 0.002381680351727196,\n",
              " 0.0023756180058901516,\n",
              " 0.0023695338864925153,\n",
              " 0.0023634281448261163,\n",
              " 0.0023573009327204587,\n",
              " 0.002351152402538944,\n",
              " 0.0023449827071750848,\n",
              " 0.0023387920000486995,\n",
              " 0.002332580435102101,\n",
              " 0.0023263481667962654,\n",
              " 0.0023200953501069936,\n",
              " 0.0023138221405210563,\n",
              " 0.002307528694032327,\n",
              " 0.002301215167137905,\n",
              " 0.002294881716834222,\n",
              " 0.002288528500613138,\n",
              " 0.002282155676458027,\n",
              " 0.0022757634028398453,\n",
              " 0.002269351838713195,\n",
              " 0.0022629211435123667,\n",
              " 0.0022564714771473792,\n",
              " 0.002250003,\n",
              " 0.002243515872919759,\n",
              " 0.002237010257219946,\n",
              " 0.0022304863146736043,\n",
              " 0.0022239442075095033,\n",
              " 0.0022173840984081056,\n",
              " 0.0022108061504975234,\n",
              " 0.0022042105273494595,\n",
              " 0.002197597392975143,\n",
              " 0.002190966911821246,\n",
              " 0.0021843192487658006,\n",
              " 0.0021776545691140937,\n",
              " 0.002170973038594559,\n",
              " 0.0021642748233546556,\n",
              " 0.0021575600899567354,\n",
              " 0.0021508290053739026,\n",
              " 0.0021440817369858607,\n",
              " 0.0021373184525747507,\n",
              " 0.0021305393203209784,\n",
              " 0.0021237445087990345,\n",
              " 0.002116934186973299,\n",
              " 0.0021101085241938423,\n",
              " 0.002103267690192213,\n",
              " 0.00209641185507722,\n",
              " 0.0020895411893306955,\n",
              " 0.0020826558638032647,\n",
              " 0.00207575604971009,\n",
              " 0.002068841918626617,\n",
              " 0.002061913642484308,\n",
              " 0.002054971393566365,\n",
              " 0.002048015344503447,\n",
              " 0.002041045668269376,\n",
              " 0.002034062538176838,\n",
              " 0.00202706612787307,\n",
              " 0.002020056611335545,\n",
              " 0.0020130341628676433,\n",
              " 0.002005998957094321,\n",
              " 0.001998951168957764,\n",
              " 0.0019918909737130417,\n",
              " 0.0019848185469237456,\n",
              " 0.0019777340644576255,\n",
              " 0.001970637702482216,\n",
              " 0.001963529637460455,\n",
              " 0.0019564100461462977,\n",
              " 0.001949279105580318,\n",
              " 0.0019421369930853099,\n",
              " 0.0019349838862618746,\n",
              " 0.0019278199629840062,\n",
              " 0.0019206454013946683,\n",
              " 0.0019134603799013637,\n",
              " 0.0019062650771716988,\n",
              " 0.0018990596721289391,\n",
              " 0.0018918443439475622,\n",
              " 0.0018846192720488005,\n",
              " 0.0018773846360961802,\n",
              " 0.001870140615991054,\n",
              " 0.0018628873918681277,\n",
              " 0.0018556251440909799,\n",
              " 0.001848354053247577,\n",
              " 0.0018410743001457844,\n",
              " 0.0018337860658088677,\n",
              " 0.0018264895314709937,\n",
              " 0.001819184878572722,\n",
              " 0.0018118722887564937,\n",
              " 0.0018045519438621158,\n",
              " 0.001797224025922237,\n",
              " 0.001789888717157823,\n",
              " 0.0017825461999736248,\n",
              " 0.0017751966569536427,\n",
              " 0.0017678402708565862,\n",
              " 0.0017604772246113296,\n",
              " 0.0017531077013123622,\n",
              " 0.0017457318842152379,\n",
              " 0.0017383499567320143,\n",
              " 0.0017309621024266951,\n",
              " 0.0017235685050106643,\n",
              " 0.0017161693483381181,\n",
              " 0.0017087648164014922,\n",
              " 0.0017013550933268882,\n",
              " 0.0016939403633694935,\n",
              " 0.001686520810909,\n",
              " 0.0016790966204450189,\n",
              " 0.0016716679765924948,\n",
              " 0.0016642350640771115,\n",
              " 0.0016567980677307005,\n",
              " 0.0016493571724866454,\n",
              " 0.0016419125633752817,\n",
              " 0.0016344644255192969,\n",
              " 0.0016270129441291262,\n",
              " 0.001619558304498348,\n",
              " 0.001612100691999075,\n",
              " 0.0016046402920773452,\n",
              " 0.0015971772902485118,\n",
              " 0.0015897118720926277,\n",
              " 0.0015822442232498312,\n",
              " 0.0015747745294157317,\n",
              " 0.0015673029763367903,\n",
              " 0.001559829749805701,\n",
              " 0.0015523550356567714,\n",
              " 0.0015448790197613008,\n",
              " 0.0015374018880229589,\n",
              " 0.001529923826373163,\n",
              " 0.0015224450207664533,\n",
              " 0.0015149656571758706,\n",
              " 0.001507485921588331,\n",
              " 0.001500006,\n",
              " 0.001492526078411669,\n",
              " 0.0014850463428241292,\n",
              " 0.001477566979233547,\n",
              " 0.0014700881736268373,\n",
              " 0.0014626101119770412,\n",
              " 0.0014551329802386995,\n",
              " 0.001447656964343229,\n",
              " 0.0014401822501942992,\n",
              " 0.0014327090236632102,\n",
              " 0.001425237470584268,\n",
              " 0.0014177677767501684,\n",
              " 0.0014103001279073722,\n",
              " 0.0014028347097514878,\n",
              " 0.0013953717079226544,\n",
              " 0.001387911308000925,\n",
              " 0.0013804536955016522,\n",
              " 0.0013729990558708739,\n",
              " 0.0013655475744807032,\n",
              " 0.0013580994366247184,\n",
              " 0.0013506548275133547,\n",
              " 0.0013432139322692995,\n",
              " 0.0013357769359228888,\n",
              " 0.0013283440234075053,\n",
              " 0.001320915379554981,\n",
              " 0.0013134911890910004,\n",
              " 0.0013060716366305068,\n",
              " 0.001298656906673112,\n",
              " 0.0012912471835985078,\n",
              " 0.001283842651661882,\n",
              " 0.001276443494989335,\n",
              " 0.0012690498975733045,\n",
              " 0.0012616620432679855,\n",
              " 0.001254280115784762,\n",
              " 0.0012469042986876374,\n",
              " 0.0012395347753886704,\n",
              " 0.0012321717291434138,\n",
              " 0.0012248153430463574,\n",
              " 0.0012174658000263753,\n",
              " 0.001210123282842177,\n",
              " 0.001202787974077763,\n",
              " 0.0011954600561378842,\n",
              " 0.001188139711243506,\n",
              " 0.0011808271214272781,\n",
              " 0.0011735224685290062,\n",
              " 0.0011662259341911321,\n",
              " 0.0011589376998542157,\n",
              " 0.001151657946752423,\n",
              " 0.0011443868559090201,\n",
              " 0.001137124608131872,\n",
              " 0.0011298713840089455,\n",
              " 0.0011226273639038196,\n",
              " 0.0011153927279511993,\n",
              " 0.0011081676560524376,\n",
              " 0.0011009523278710607,\n",
              " 0.0010937469228283012,\n",
              " 0.0010865516200986361,\n",
              " 0.0010793665986053318,\n",
              " 0.0010721920370159938,\n",
              " 0.0010650281137381252,\n",
              " 0.00105787500691469,\n",
              " 0.0010507328944196817,\n",
              " 0.0010436019538537025,\n",
              " 0.001036482362539545,\n",
              " 0.0010293742975177845,\n",
              " 0.001022277935542375,\n",
              " 0.0010151934530762549,\n",
              " 0.0010081210262869586,\n",
              " 0.0010010608310422361,\n",
              " 0.0009940130429056794,\n",
              " 0.000986977837132357,\n",
              " 0.0009799553886644552,\n",
              " 0.0009729458721269303,\n",
              " 0.0009659494618231624,\n",
              " 0.0009589663317306242,\n",
              " 0.0009519966554965536,\n",
              " 0.0009450406064336355,\n",
              " 0.0009380983575156923,\n",
              " 0.0009311700813733833,\n",
              " 0.0009242559502899104,\n",
              " 0.0009173561361967356,\n",
              " 0.0009104708106693045,\n",
              " 0.0009036001449227807,\n",
              " 0.0008967443098077868,\n",
              " 0.0008899034758061583,\n",
              " 0.0008830778130267018,\n",
              " 0.0008762674912009661,\n",
              " 0.0008694726796790218,\n",
              " 0.0008626935474252498,\n",
              " 0.0008559302630141392,\n",
              " 0.0008491829946260975,\n",
              " 0.0008424519100432644,\n",
              " 0.0008357371766453446,\n",
              " 0.0008290389614054408,\n",
              " 0.0008223574308859066,\n",
              " 0.0008156927512341995,\n",
              " 0.0008090450881787544,\n",
              " 0.0008024146070248578,\n",
              " 0.0007958014726505408,\n",
              " 0.0007892058495024768,\n",
              " 0.0007826279015918948,\n",
              " 0.000776067792490497,\n",
              " 0.0007695256853263954,\n",
              " 0.0007630017427800541,\n",
              " 0.0007564961270802414,\n",
              " 0.0007500090000000003,\n",
              " 0.0007435405228526209,\n",
              " 0.0007370908564876336,\n",
              " 0.0007306601612868051,\n",
              " 0.0007242485971601544,\n",
              " 0.0007178563235419732,\n",
              " 0.0007114834993868616,\n",
              " 0.0007051302831657781,\n",
              " 0.0006987968328620948,\n",
              " 0.0006924833059676733,\n",
              " 0.0006861898594789441,\n",
              " 0.0006799166498930065,\n",
              " 0.000673663833203735,\n",
              " 0.0006674315648978992,\n",
              " 0.0006612199999513008,\n",
              " 0.0006550292928249153,\n",
              " 0.000648859597461056,\n",
              " 0.0006427110672795413,\n",
              " 0.000636583855173884,\n",
              " 0.0006304781135074851,\n",
              " 0.0006243939941098489,\n",
              " 0.0006183316482728042,\n",
              " 0.0006122912267467451,\n",
              " 0.0006062728797368793,\n",
              " 0.0006002767568994976,\n",
              " 0.0005943030073382455,\n",
              " 0.0005883517796004231,\n",
              " 0.000582423221673285,\n",
              " 0.0005765174809803645,\n",
              " 0.0005706347043778051,\n",
              " 0.0005647750381507109,\n",
              " 0.0005589386280095061,\n",
              " 0.0005531256190863155,\n",
              " 0.0005473361559313509,\n",
              " 0.0005415703825093214,\n",
              " 0.0005358284421958491,\n",
              " 0.000530110477773908,\n",
              " 0.0005244166314302694,\n",
              " 0.0005187470447519697,\n",
              " 0.0005131018587227867,\n",
              " 0.0005074812137197367,\n",
              " 0.0005018852495095805,\n",
              " 0.0004963141052453513,\n",
              " 0.0004907679194628902,\n",
              " 0.00048524683007740806,\n",
              " 0.0004797509743800473,\n",
              " 0.0004742804890344754,\n",
              " 0.00046883551007348125,\n",
              " 0.00046341617289559695,\n",
              " 0.0004580226122617267,\n",
              " 0.0004526549622917994,\n",
              " 0.0004473133564614301,\n",
              " 0.0004419979275986047,\n",
              " 0.0004367088078803728,\n",
              " 0.0004314461288295648,\n",
              " 0.0004262100213115179,\n",
              " 0.00042100061553082557,\n",
              " 0.00041581804102809583,\n",
              " 0.00041066242667673345,\n",
              " 0.00040553390067973264,\n",
              " 0.0004004325905664918,\n",
              " 0.00039535862318963895,\n",
              " 0.00039031212472188064,\n",
              " 0.00038529322065286136,\n",
              " 0.000380302035786047,\n",
              " 0.00037533869423561633,\n",
              " 0.0003704033194233797,\n",
              " 0.00036549603407570546,\n",
              " 0.0003606169602204725,\n",
              " 0.0003557662191840314,\n",
              " 0.0003509439315881919,\n",
              " 0.00034615021734721936,\n",
              " 0.00034138519566485626,\n",
              " 0.00033664898503135525,\n",
              " 0.00033194170322053534,\n",
              " 0.0003272634672868501,\n",
              " 0.00032261439356248066,\n",
              " 0.0003179945976544388,\n",
              " 0.00031340419444169645,\n",
              " 0.0003088432980723249,\n",
              " 0.0003043120219606601,\n",
              " 0.0002998104787844788,\n",
              " 0.00029533878048220065,\n",
              " 0.00029089703825009957,\n",
              " 0.00028648536253954527,\n",
              " 0.00028210386305424956,\n",
              " 0.000277752648747544,\n",
              " 0.00027343182781966696,\n",
              " 0.0002691415077150759,\n",
              " 0.00026488179511977277,\n",
              " 0.0002606527959586539,\n",
              " 0.0002564546153928729,\n",
              " 0.0002522873578172292,\n",
              " 0.0002481511268575684,\n",
              " 0.00024404602536820918,\n",
              " 0.0002399721554293818,\n",
              " 0.00023592961834469314,\n",
              " 0.0002319185146386059,\n",
              " 0.00022793894405393798,\n",
              " 0.00022399100554938494,\n",
              " 0.00022007479729705637,\n",
              " 0.00021619041668003688,\n",
              " 0.00021233796028996245,\n",
              " 0.0002085175239246208,\n",
              " 0.00020472920258556793,\n",
              " 0.00020097309047576465,\n",
              " 0.00019724928099723696,\n",
              " 0.00019355786674875018,\n",
              " 0.00018989893952350923,\n",
              " 0.00018627259030687374,\n",
              " 0.00018267890927409723,\n",
              " 0.00017911798578808412,\n",
              " 0.00017558990839716665,\n",
              " 0.0001720947648329048,\n",
              " 0.0001686326420079029,\n",
              " 0.00016520362601365004,\n",
              " 0.00016180780211837775,\n",
              " 0.000158445254764941,\n",
              " 0.00015511606756871683,\n",
              " 0.00015182032331552756,\n",
              " 0.00014855810395957884,\n",
              " 0.00014532949062142508,\n",
              " 0.00014213456358594956,\n",
              " 0.00013897340230037007,\n",
              " 0.00013584608537226187,\n",
              " 0.00013275269056760416,\n",
              " 0.0001296932948088444,\n",
              " 0.0001266679741729882,\n",
              " 0.00012367680388970494,\n",
              " 0.00012071985833945944,\n",
              " 0.00011779721105165961,\n",
              " 0.0001149089347028313,\n",
              " 0.0001120551011148078,\n",
              " 0.00010923578125294643,\n",
              " 0.00010645104522436217,\n",
              " 0.00010370096227618565,\n",
              " 0.0001009856007938398,\n",
              " 9.830502829934094e-05,\n",
              " 9.565931144961802e-05,\n",
              " 9.304851603485683e-05,\n",
              " 9.047270697686224e-05,\n",
              " 8.793194832744533e-05,\n",
              " 8.542630326682942e-05,\n",
              " 8.295583410208073e-05,\n",
              " 8.05206022655564e-05,\n",
              " 7.812066831337944e-05,\n",
              " 7.575609192393085e-05,\n",
              " 7.342693189636747e-05,\n",
              " 7.11332461491581e-05,\n",
              " 6.887509171864492e-05,\n",
              " 6.665252475762353e-05,\n",
              " 6.446560053394816e-05,\n",
              " 6.231437342915586e-05,\n",
              " 6.0198896937115836e-05,\n",
              " 5.811922366269729e-05,\n",
              " 5.607540532046365e-05,\n",
              " 5.406749273338431e-05,\n",
              " 5.2095535831572426e-05,\n",
              " 5.0159583651042276e-05,\n",
              " 4.825968433249108e-05,\n",
              " 4.63958851201006e-05,\n",
              " 4.456823236036294e-05,\n",
              " 4.277677150092849e-05,\n",
              " 4.102154708947529e-05,\n",
              " 3.930260277260077e-05,\n",
              " 3.761998129473766e-05,\n",
              " 3.597372449708995e-05,\n",
              " 3.436387331659327e-05,\n",
              " 3.2790467784895864e-05,\n",
              " 3.125354702736489e-05,\n",
              " 2.975314926211135e-05,\n",
              " 2.828931179904155e-05,\n",
              " 2.686207103892801e-05,\n",
              " 2.5471462472505493e-05,\n",
              " 2.411752067958709e-05,\n",
              " 2.280027932820604e-05,\n",
              " 2.1519771173776772e-05,\n",
              " 2.027602805828153e-05,\n",
              " 1.9069080909478017e-05,\n",
              " 1.7898959740130874e-05,\n",
              " 1.6765693647264565e-05,\n",
              " 1.5669310811440833e-05,\n",
              " 1.4609838496056905e-05,\n",
              " 1.3587303046668555e-05,\n",
              " 1.260172989033362e-05,\n",
              " 1.1653143534981505e-05,\n",
              " 1.0741567568802018e-05,\n",
              " 9.867024659660333e-06,\n",
              " 9.029536554531612e-06,\n",
              " 8.229124078962274e-06,\n",
              " 7.465807136550078e-06,\n",
              " 6.73960470845085e-06,\n",
              " 6.050534852905369e-06,\n",
              " 5.398614704791224e-06,\n",
              " 4.783860475195326e-06,\n",
              " 4.206287451012893e-06,\n",
              " 3.6659099945652623e-06,\n",
              " 3.1627415432438407e-06,\n",
              " 2.696794609175874e-06,\n",
              " 2.2680807789131967e-06,\n",
              " 1.876610713143797e-06,\n",
              " 1.5223941464273639e-06,\n",
              " 1.2054398869524815e-06,\n",
              " 9.257558163184713e-07,\n",
              " 6.83348889338717e-07,\n",
              " 4.782251338676366e-07,\n",
              " 3.10389650651303e-07,\n",
              " 1.7984661320071206e-07,\n",
              " 8.659926768720046e-08,\n",
              " 3.064993286217662e-08]"
            ]
          },
          "metadata": {
            "tags": []
          },
          "execution_count": 12
        }
      ]
    },
    {
      "cell_type": "code",
      "metadata": {
        "id": "FCYTzUgE3Q3A",
        "outputId": "522d228d-bc4f-4ce3-844a-2a7ddc5ba58a",
        "colab": {
          "base_uri": "https://localhost:8080/",
          "height": 1000
        }
      },
      "source": [
        "learn.recorder.losses"
      ],
      "execution_count": null,
      "outputs": [
        {
          "output_type": "execute_result",
          "data": {
            "text/plain": [
              "[tensor(5.4284),\n",
              " tensor(5.6009),\n",
              " tensor(5.5449),\n",
              " tensor(5.5282),\n",
              " tensor(5.4229),\n",
              " tensor(5.2769),\n",
              " tensor(5.2986),\n",
              " tensor(5.2545),\n",
              " tensor(5.1624),\n",
              " tensor(5.1099),\n",
              " tensor(5.1455),\n",
              " tensor(5.0957),\n",
              " tensor(5.0906),\n",
              " tensor(5.0334),\n",
              " tensor(5.0405),\n",
              " tensor(5.0128),\n",
              " tensor(5.0074),\n",
              " tensor(5.0381),\n",
              " tensor(5.0077),\n",
              " tensor(4.9569),\n",
              " tensor(4.9601),\n",
              " tensor(4.9339),\n",
              " tensor(4.8946),\n",
              " tensor(4.8442),\n",
              " tensor(4.8185),\n",
              " tensor(4.7538),\n",
              " tensor(4.6896),\n",
              " tensor(4.6496),\n",
              " tensor(4.6006),\n",
              " tensor(4.5583),\n",
              " tensor(4.4962),\n",
              " tensor(4.4537),\n",
              " tensor(4.4285),\n",
              " tensor(4.4302),\n",
              " tensor(4.4216),\n",
              " tensor(4.3884),\n",
              " tensor(4.3216),\n",
              " tensor(4.2785),\n",
              " tensor(4.2496),\n",
              " tensor(4.2037),\n",
              " tensor(4.1844),\n",
              " tensor(4.1430),\n",
              " tensor(4.1063),\n",
              " tensor(4.0614),\n",
              " tensor(4.0055),\n",
              " tensor(3.9422),\n",
              " tensor(3.8852),\n",
              " tensor(3.8627),\n",
              " tensor(3.8137),\n",
              " tensor(3.7670),\n",
              " tensor(3.7329),\n",
              " tensor(3.6987),\n",
              " tensor(3.6631),\n",
              " tensor(3.6216),\n",
              " tensor(3.5784),\n",
              " tensor(3.5289),\n",
              " tensor(3.4766),\n",
              " tensor(3.4324),\n",
              " tensor(3.3869),\n",
              " tensor(3.3423),\n",
              " tensor(3.3141),\n",
              " tensor(3.2733),\n",
              " tensor(3.2329),\n",
              " tensor(3.1966),\n",
              " tensor(3.1439),\n",
              " tensor(3.1081),\n",
              " tensor(3.0817),\n",
              " tensor(3.0520),\n",
              " tensor(2.9967),\n",
              " tensor(2.9581),\n",
              " tensor(2.9142),\n",
              " tensor(2.8924),\n",
              " tensor(2.8563),\n",
              " tensor(2.8058),\n",
              " tensor(2.7721),\n",
              " tensor(2.7314),\n",
              " tensor(2.6844),\n",
              " tensor(2.6361),\n",
              " tensor(2.5993),\n",
              " tensor(2.5567),\n",
              " tensor(2.5131),\n",
              " tensor(2.4759),\n",
              " tensor(2.4321),\n",
              " tensor(2.4045),\n",
              " tensor(2.3748),\n",
              " tensor(2.3457),\n",
              " tensor(2.3093),\n",
              " tensor(2.2814),\n",
              " tensor(2.2612),\n",
              " tensor(2.2368),\n",
              " tensor(2.1961),\n",
              " tensor(2.1634),\n",
              " tensor(2.1397),\n",
              " tensor(2.1084),\n",
              " tensor(2.0741),\n",
              " tensor(2.0476),\n",
              " tensor(2.0221),\n",
              " tensor(1.9923),\n",
              " tensor(1.9681),\n",
              " tensor(1.9419),\n",
              " tensor(1.9140),\n",
              " tensor(1.8882),\n",
              " tensor(1.8645),\n",
              " tensor(1.8506),\n",
              " tensor(1.8206),\n",
              " tensor(1.8062),\n",
              " tensor(1.7920),\n",
              " tensor(1.7658),\n",
              " tensor(1.7371),\n",
              " tensor(1.7173),\n",
              " tensor(1.7071),\n",
              " tensor(1.6835),\n",
              " tensor(1.6559),\n",
              " tensor(1.6369),\n",
              " tensor(1.6187),\n",
              " tensor(1.6065),\n",
              " tensor(1.5781),\n",
              " tensor(1.5801),\n",
              " tensor(1.5603),\n",
              " tensor(1.5354),\n",
              " tensor(1.5168),\n",
              " tensor(1.4969),\n",
              " tensor(1.4746),\n",
              " tensor(1.4606),\n",
              " tensor(1.4478),\n",
              " tensor(1.4271),\n",
              " tensor(1.4097),\n",
              " tensor(1.3924),\n",
              " tensor(1.3720),\n",
              " tensor(1.3600),\n",
              " tensor(1.3424),\n",
              " tensor(1.3237),\n",
              " tensor(1.3074),\n",
              " tensor(1.2885),\n",
              " tensor(1.2694),\n",
              " tensor(1.2587),\n",
              " tensor(1.2538),\n",
              " tensor(1.2463),\n",
              " tensor(1.2308),\n",
              " tensor(1.2186),\n",
              " tensor(1.2006),\n",
              " tensor(1.1925),\n",
              " tensor(1.1783),\n",
              " tensor(1.1675),\n",
              " tensor(1.1534),\n",
              " tensor(1.1328),\n",
              " tensor(1.1171),\n",
              " tensor(1.1068),\n",
              " tensor(1.0900),\n",
              " tensor(1.0868),\n",
              " tensor(1.0775),\n",
              " tensor(1.0634),\n",
              " tensor(1.0496),\n",
              " tensor(1.0398),\n",
              " tensor(1.0324),\n",
              " tensor(1.0237),\n",
              " tensor(1.0144),\n",
              " tensor(1.0042),\n",
              " tensor(0.9901),\n",
              " tensor(0.9834),\n",
              " tensor(0.9688),\n",
              " tensor(0.9533),\n",
              " tensor(0.9408),\n",
              " tensor(0.9258),\n",
              " tensor(0.9123),\n",
              " tensor(0.8993),\n",
              " tensor(0.8831),\n",
              " tensor(0.8829),\n",
              " tensor(0.8720),\n",
              " tensor(0.8642),\n",
              " tensor(0.8495),\n",
              " tensor(0.8381),\n",
              " tensor(0.8262),\n",
              " tensor(0.8144),\n",
              " tensor(0.8102),\n",
              " tensor(0.7979),\n",
              " tensor(0.7895),\n",
              " tensor(0.7780),\n",
              " tensor(0.7743),\n",
              " tensor(0.7710),\n",
              " tensor(0.7623),\n",
              " tensor(0.7530),\n",
              " tensor(0.7495),\n",
              " tensor(0.7438),\n",
              " tensor(0.7417),\n",
              " tensor(0.7348),\n",
              " tensor(0.7320),\n",
              " tensor(0.7246),\n",
              " tensor(0.7190),\n",
              " tensor(0.7090),\n",
              " tensor(0.7067),\n",
              " tensor(0.7016),\n",
              " tensor(0.6915),\n",
              " tensor(0.6862),\n",
              " tensor(0.6815),\n",
              " tensor(0.6777),\n",
              " tensor(0.6710),\n",
              " tensor(0.6703),\n",
              " tensor(0.6662),\n",
              " tensor(0.6581),\n",
              " tensor(0.6510),\n",
              " tensor(0.6451),\n",
              " tensor(0.6478),\n",
              " tensor(0.6440),\n",
              " tensor(0.6409),\n",
              " tensor(0.6327),\n",
              " tensor(0.6262),\n",
              " tensor(0.6247),\n",
              " tensor(0.6148),\n",
              " tensor(0.6070),\n",
              " tensor(0.6031),\n",
              " tensor(0.5986),\n",
              " tensor(0.5941),\n",
              " tensor(0.5915),\n",
              " tensor(0.5844),\n",
              " tensor(0.5818),\n",
              " tensor(0.5761),\n",
              " tensor(0.5701),\n",
              " tensor(0.5614),\n",
              " tensor(0.5546),\n",
              " tensor(0.5516),\n",
              " tensor(0.5447),\n",
              " tensor(0.5435),\n",
              " tensor(0.5395),\n",
              " tensor(0.5322),\n",
              " tensor(0.5279),\n",
              " tensor(0.5236),\n",
              " tensor(0.5269),\n",
              " tensor(0.5187),\n",
              " tensor(0.5175),\n",
              " tensor(0.5102),\n",
              " tensor(0.5024),\n",
              " tensor(0.4972),\n",
              " tensor(0.4920),\n",
              " tensor(0.4912),\n",
              " tensor(0.4879),\n",
              " tensor(0.4821),\n",
              " tensor(0.4845),\n",
              " tensor(0.4849),\n",
              " tensor(0.4793),\n",
              " tensor(0.4733),\n",
              " tensor(0.4755),\n",
              " tensor(0.4712),\n",
              " tensor(0.4692),\n",
              " tensor(0.4713),\n",
              " tensor(0.4698),\n",
              " tensor(0.4692),\n",
              " tensor(0.4742),\n",
              " tensor(0.4710),\n",
              " tensor(0.4702),\n",
              " tensor(0.4704),\n",
              " tensor(0.4643),\n",
              " tensor(0.4629),\n",
              " tensor(0.4595),\n",
              " tensor(0.4562),\n",
              " tensor(0.4505),\n",
              " tensor(0.4447),\n",
              " tensor(0.4391),\n",
              " tensor(0.4371),\n",
              " tensor(0.4335),\n",
              " tensor(0.4308),\n",
              " tensor(0.4305),\n",
              " tensor(0.4329),\n",
              " tensor(0.4315),\n",
              " tensor(0.4308),\n",
              " tensor(0.4273),\n",
              " tensor(0.4254),\n",
              " tensor(0.4255),\n",
              " tensor(0.4231),\n",
              " tensor(0.4182),\n",
              " tensor(0.4202),\n",
              " tensor(0.4190),\n",
              " tensor(0.4212),\n",
              " tensor(0.4168),\n",
              " tensor(0.4113),\n",
              " tensor(0.4099),\n",
              " tensor(0.4067),\n",
              " tensor(0.3995),\n",
              " tensor(0.3938),\n",
              " tensor(0.4004),\n",
              " tensor(0.3931),\n",
              " tensor(0.3870),\n",
              " tensor(0.3848),\n",
              " tensor(0.3812),\n",
              " tensor(0.3766),\n",
              " tensor(0.3796),\n",
              " tensor(0.3764),\n",
              " tensor(0.3787),\n",
              " tensor(0.3740),\n",
              " tensor(0.3726),\n",
              " tensor(0.3731),\n",
              " tensor(0.3752),\n",
              " tensor(0.3746),\n",
              " tensor(0.3775),\n",
              " tensor(0.3731),\n",
              " tensor(0.3713),\n",
              " tensor(0.3674),\n",
              " tensor(0.3627),\n",
              " tensor(0.3574),\n",
              " tensor(0.3523),\n",
              " tensor(0.3490),\n",
              " tensor(0.3513),\n",
              " tensor(0.3575),\n",
              " tensor(0.3560),\n",
              " tensor(0.3521),\n",
              " tensor(0.3478),\n",
              " tensor(0.3487),\n",
              " tensor(0.3552),\n",
              " tensor(0.3521),\n",
              " tensor(0.3509),\n",
              " tensor(0.3511),\n",
              " tensor(0.3476),\n",
              " tensor(0.3438),\n",
              " tensor(0.3456),\n",
              " tensor(0.3401),\n",
              " tensor(0.3392),\n",
              " tensor(0.3365),\n",
              " tensor(0.3375),\n",
              " tensor(0.3348),\n",
              " tensor(0.3365),\n",
              " tensor(0.3361),\n",
              " tensor(0.3308),\n",
              " tensor(0.3323),\n",
              " tensor(0.3306),\n",
              " tensor(0.3327),\n",
              " tensor(0.3270),\n",
              " tensor(0.3255),\n",
              " tensor(0.3295),\n",
              " tensor(0.3273),\n",
              " tensor(0.3239),\n",
              " tensor(0.3189),\n",
              " tensor(0.3151),\n",
              " tensor(0.3158),\n",
              " tensor(0.3133),\n",
              " tensor(0.3140),\n",
              " tensor(0.3095),\n",
              " tensor(0.3058),\n",
              " tensor(0.3061),\n",
              " tensor(0.3042),\n",
              " tensor(0.3023),\n",
              " tensor(0.3069),\n",
              " tensor(0.3051),\n",
              " tensor(0.2994),\n",
              " tensor(0.2968),\n",
              " tensor(0.2986),\n",
              " tensor(0.3050),\n",
              " tensor(0.3003),\n",
              " tensor(0.2996),\n",
              " tensor(0.2985),\n",
              " tensor(0.2958),\n",
              " tensor(0.2997),\n",
              " tensor(0.3017),\n",
              " tensor(0.3042),\n",
              " tensor(0.3021),\n",
              " tensor(0.3099),\n",
              " tensor(0.3107),\n",
              " tensor(0.3092),\n",
              " tensor(0.3103),\n",
              " tensor(0.3104),\n",
              " tensor(0.3101),\n",
              " tensor(0.3108),\n",
              " tensor(0.3073),\n",
              " tensor(0.3057),\n",
              " tensor(0.3007),\n",
              " tensor(0.2984),\n",
              " tensor(0.2965),\n",
              " tensor(0.2922),\n",
              " tensor(0.2949),\n",
              " tensor(0.2924),\n",
              " tensor(0.2914),\n",
              " tensor(0.2922),\n",
              " tensor(0.2938),\n",
              " tensor(0.2968),\n",
              " tensor(0.2922),\n",
              " tensor(0.2916),\n",
              " tensor(0.2899),\n",
              " tensor(0.2885),\n",
              " tensor(0.2843),\n",
              " tensor(0.2911),\n",
              " tensor(0.2904),\n",
              " tensor(0.2880),\n",
              " tensor(0.2931),\n",
              " tensor(0.2876),\n",
              " tensor(0.2838),\n",
              " tensor(0.2839),\n",
              " tensor(0.2872),\n",
              " tensor(0.2818),\n",
              " tensor(0.2777),\n",
              " tensor(0.2781),\n",
              " tensor(0.2756),\n",
              " tensor(0.2724),\n",
              " tensor(0.2719),\n",
              " tensor(0.2697),\n",
              " tensor(0.2677),\n",
              " tensor(0.2683),\n",
              " tensor(0.2650),\n",
              " tensor(0.2654),\n",
              " tensor(0.2616),\n",
              " tensor(0.2620),\n",
              " tensor(0.2608),\n",
              " tensor(0.2644),\n",
              " tensor(0.2677),\n",
              " tensor(0.2663),\n",
              " tensor(0.2623),\n",
              " tensor(0.2587),\n",
              " tensor(0.2550),\n",
              " tensor(0.2522),\n",
              " tensor(0.2584),\n",
              " tensor(0.2574),\n",
              " tensor(0.2538),\n",
              " tensor(0.2527),\n",
              " tensor(0.2546),\n",
              " tensor(0.2517),\n",
              " tensor(0.2496),\n",
              " tensor(0.2462),\n",
              " tensor(0.2427),\n",
              " tensor(0.2400),\n",
              " tensor(0.2372),\n",
              " tensor(0.2338),\n",
              " tensor(0.2311),\n",
              " tensor(0.2287),\n",
              " tensor(0.2271),\n",
              " tensor(0.2292),\n",
              " tensor(0.2284),\n",
              " tensor(0.2281),\n",
              " tensor(0.2246),\n",
              " tensor(0.2211),\n",
              " tensor(0.2218),\n",
              " tensor(0.2191),\n",
              " tensor(0.2160),\n",
              " tensor(0.2139),\n",
              " tensor(0.2130),\n",
              " tensor(0.2153),\n",
              " tensor(0.2126),\n",
              " tensor(0.2126),\n",
              " tensor(0.2105),\n",
              " tensor(0.2115),\n",
              " tensor(0.2098),\n",
              " tensor(0.2125),\n",
              " tensor(0.2120),\n",
              " tensor(0.2084),\n",
              " tensor(0.2085),\n",
              " tensor(0.2094),\n",
              " tensor(0.2095),\n",
              " tensor(0.2116),\n",
              " tensor(0.2109),\n",
              " tensor(0.2169),\n",
              " tensor(0.2187),\n",
              " tensor(0.2180),\n",
              " tensor(0.2162),\n",
              " tensor(0.2165),\n",
              " tensor(0.2157),\n",
              " tensor(0.2138),\n",
              " tensor(0.2112),\n",
              " tensor(0.2084),\n",
              " tensor(0.2058),\n",
              " tensor(0.2073),\n",
              " tensor(0.2108),\n",
              " tensor(0.2113),\n",
              " tensor(0.2110),\n",
              " tensor(0.2127),\n",
              " tensor(0.2088),\n",
              " tensor(0.2053),\n",
              " tensor(0.2093),\n",
              " tensor(0.2059),\n",
              " tensor(0.2079),\n",
              " tensor(0.2089),\n",
              " tensor(0.2104),\n",
              " tensor(0.2069),\n",
              " tensor(0.2083),\n",
              " tensor(0.2102),\n",
              " tensor(0.2072),\n",
              " tensor(0.2095),\n",
              " tensor(0.2152),\n",
              " tensor(0.2123),\n",
              " tensor(0.2131),\n",
              " tensor(0.2120),\n",
              " tensor(0.2135),\n",
              " tensor(0.2159),\n",
              " tensor(0.2133),\n",
              " tensor(0.2098),\n",
              " tensor(0.2086),\n",
              " tensor(0.2049),\n",
              " tensor(0.2024),\n",
              " tensor(0.1998),\n",
              " tensor(0.1976),\n",
              " tensor(0.1974),\n",
              " tensor(0.1943),\n",
              " tensor(0.1940),\n",
              " tensor(0.1943),\n",
              " tensor(0.1930),\n",
              " tensor(0.1897),\n",
              " tensor(0.1873),\n",
              " tensor(0.1869),\n",
              " tensor(0.1866),\n",
              " tensor(0.1846),\n",
              " tensor(0.1872),\n",
              " tensor(0.1875),\n",
              " tensor(0.1866),\n",
              " tensor(0.1883),\n",
              " tensor(0.1891),\n",
              " tensor(0.1886),\n",
              " tensor(0.1937),\n",
              " tensor(0.1927),\n",
              " tensor(0.1907),\n",
              " tensor(0.1893),\n",
              " tensor(0.1893),\n",
              " tensor(0.1865),\n",
              " tensor(0.1857),\n",
              " tensor(0.1825),\n",
              " tensor(0.1879),\n",
              " tensor(0.1921),\n",
              " tensor(0.1908),\n",
              " tensor(0.1896),\n",
              " tensor(0.1875),\n",
              " tensor(0.1864),\n",
              " tensor(0.1841),\n",
              " tensor(0.1813),\n",
              " tensor(0.1788),\n",
              " tensor(0.1797),\n",
              " tensor(0.1792),\n",
              " tensor(0.1808),\n",
              " tensor(0.1778),\n",
              " tensor(0.1744),\n",
              " tensor(0.1734),\n",
              " tensor(0.1751),\n",
              " tensor(0.1791),\n",
              " tensor(0.1768),\n",
              " tensor(0.1741),\n",
              " tensor(0.1716),\n",
              " tensor(0.1708),\n",
              " tensor(0.1723),\n",
              " tensor(0.1774),\n",
              " tensor(0.1748),\n",
              " tensor(0.1737),\n",
              " tensor(0.1728),\n",
              " tensor(0.1711),\n",
              " tensor(0.1753),\n",
              " tensor(0.1756),\n",
              " tensor(0.1787),\n",
              " tensor(0.1826),\n",
              " tensor(0.1824),\n",
              " tensor(0.1811),\n",
              " tensor(0.1796),\n",
              " tensor(0.1846),\n",
              " tensor(0.1866),\n",
              " tensor(0.1860),\n",
              " tensor(0.1869),\n",
              " tensor(0.1845),\n",
              " tensor(0.1813),\n",
              " tensor(0.1810),\n",
              " tensor(0.1814),\n",
              " tensor(0.1806),\n",
              " tensor(0.1776),\n",
              " tensor(0.1760),\n",
              " tensor(0.1806),\n",
              " tensor(0.1816),\n",
              " tensor(0.1799),\n",
              " tensor(0.1772),\n",
              " tensor(0.1740),\n",
              " tensor(0.1709),\n",
              " tensor(0.1688),\n",
              " tensor(0.1670),\n",
              " tensor(0.1659),\n",
              " tensor(0.1642),\n",
              " tensor(0.1622),\n",
              " tensor(0.1618),\n",
              " tensor(0.1594),\n",
              " tensor(0.1600),\n",
              " tensor(0.1580),\n",
              " tensor(0.1560),\n",
              " tensor(0.1563),\n",
              " tensor(0.1552),\n",
              " tensor(0.1537),\n",
              " tensor(0.1521),\n",
              " tensor(0.1500),\n",
              " tensor(0.1495),\n",
              " tensor(0.1513),\n",
              " tensor(0.1493),\n",
              " tensor(0.1468),\n",
              " tensor(0.1453),\n",
              " tensor(0.1507),\n",
              " tensor(0.1548),\n",
              " tensor(0.1532),\n",
              " tensor(0.1542),\n",
              " tensor(0.1550),\n",
              " tensor(0.1547),\n",
              " tensor(0.1583),\n",
              " tensor(0.1570),\n",
              " tensor(0.1546),\n",
              " tensor(0.1527),\n",
              " tensor(0.1530),\n",
              " tensor(0.1529),\n",
              " tensor(0.1520),\n",
              " tensor(0.1501),\n",
              " tensor(0.1496),\n",
              " tensor(0.1545),\n",
              " tensor(0.1550),\n",
              " tensor(0.1527),\n",
              " tensor(0.1498),\n",
              " tensor(0.1475),\n",
              " tensor(0.1449),\n",
              " tensor(0.1431),\n",
              " tensor(0.1427),\n",
              " tensor(0.1442),\n",
              " tensor(0.1465),\n",
              " tensor(0.1451),\n",
              " tensor(0.1469),\n",
              " tensor(0.1456),\n",
              " tensor(0.1453),\n",
              " tensor(0.1449),\n",
              " tensor(0.1450),\n",
              " tensor(0.1438),\n",
              " tensor(0.1415),\n",
              " tensor(0.1422),\n",
              " tensor(0.1397),\n",
              " tensor(0.1379),\n",
              " tensor(0.1385),\n",
              " tensor(0.1367),\n",
              " tensor(0.1347),\n",
              " tensor(0.1336),\n",
              " tensor(0.1346),\n",
              " tensor(0.1322),\n",
              " tensor(0.1307),\n",
              " tensor(0.1286),\n",
              " tensor(0.1300),\n",
              " tensor(0.1284),\n",
              " tensor(0.1274),\n",
              " tensor(0.1266),\n",
              " tensor(0.1247),\n",
              " tensor(0.1272),\n",
              " tensor(0.1283),\n",
              " tensor(0.1328),\n",
              " tensor(0.1352),\n",
              " tensor(0.1340),\n",
              " tensor(0.1324),\n",
              " tensor(0.1302),\n",
              " tensor(0.1344),\n",
              " tensor(0.1331),\n",
              " tensor(0.1330),\n",
              " tensor(0.1324),\n",
              " tensor(0.1308),\n",
              " tensor(0.1326),\n",
              " tensor(0.1311),\n",
              " tensor(0.1307),\n",
              " tensor(0.1290),\n",
              " tensor(0.1291),\n",
              " tensor(0.1297),\n",
              " tensor(0.1276),\n",
              " tensor(0.1273),\n",
              " tensor(0.1250),\n",
              " tensor(0.1250),\n",
              " tensor(0.1237),\n",
              " tensor(0.1247),\n",
              " tensor(0.1253),\n",
              " tensor(0.1249),\n",
              " tensor(0.1255),\n",
              " tensor(0.1265),\n",
              " tensor(0.1275),\n",
              " tensor(0.1280),\n",
              " tensor(0.1282),\n",
              " tensor(0.1305),\n",
              " tensor(0.1295),\n",
              " tensor(0.1310),\n",
              " tensor(0.1302),\n",
              " tensor(0.1295),\n",
              " tensor(0.1294),\n",
              " tensor(0.1275),\n",
              " tensor(0.1264),\n",
              " tensor(0.1305),\n",
              " tensor(0.1306),\n",
              " tensor(0.1284),\n",
              " tensor(0.1275),\n",
              " tensor(0.1252),\n",
              " tensor(0.1228),\n",
              " tensor(0.1209),\n",
              " tensor(0.1199),\n",
              " tensor(0.1219),\n",
              " tensor(0.1202),\n",
              " tensor(0.1186),\n",
              " tensor(0.1178),\n",
              " tensor(0.1157),\n",
              " tensor(0.1144),\n",
              " tensor(0.1122),\n",
              " tensor(0.1110),\n",
              " tensor(0.1091),\n",
              " tensor(0.1071),\n",
              " tensor(0.1098),\n",
              " tensor(0.1079),\n",
              " tensor(0.1077),\n",
              " tensor(0.1092),\n",
              " tensor(0.1101),\n",
              " tensor(0.1083),\n",
              " tensor(0.1084),\n",
              " tensor(0.1067),\n",
              " tensor(0.1045),\n",
              " tensor(0.1031),\n",
              " tensor(0.1029),\n",
              " tensor(0.1016),\n",
              " tensor(0.1008),\n",
              " tensor(0.1005),\n",
              " tensor(0.1047),\n",
              " tensor(0.1037),\n",
              " tensor(0.1050),\n",
              " tensor(0.1060),\n",
              " tensor(0.1053),\n",
              " tensor(0.1037),\n",
              " tensor(0.1033),\n",
              " tensor(0.1015),\n",
              " tensor(0.1009),\n",
              " tensor(0.1006),\n",
              " tensor(0.0994),\n",
              " tensor(0.0991),\n",
              " tensor(0.0973),\n",
              " tensor(0.0971),\n",
              " tensor(0.0953),\n",
              " tensor(0.0949),\n",
              " tensor(0.0962),\n",
              " tensor(0.0953),\n",
              " tensor(0.0935),\n",
              " tensor(0.0975),\n",
              " tensor(0.0964),\n",
              " tensor(0.0948),\n",
              " tensor(0.0979),\n",
              " tensor(0.0961),\n",
              " tensor(0.0985),\n",
              " tensor(0.0973),\n",
              " tensor(0.0972),\n",
              " tensor(0.0963),\n",
              " tensor(0.0978),\n",
              " tensor(0.0964),\n",
              " tensor(0.0948),\n",
              " tensor(0.0933),\n",
              " tensor(0.0926),\n",
              " tensor(0.0924),\n",
              " tensor(0.0924),\n",
              " tensor(0.0948),\n",
              " tensor(0.0930),\n",
              " tensor(0.0958),\n",
              " tensor(0.0954),\n",
              " tensor(0.0939),\n",
              " tensor(0.0924),\n",
              " tensor(0.0909),\n",
              " tensor(0.0953),\n",
              " tensor(0.0939),\n",
              " tensor(0.0932),\n",
              " tensor(0.0934),\n",
              " tensor(0.0926),\n",
              " tensor(0.0908),\n",
              " tensor(0.0893),\n",
              " tensor(0.0877),\n",
              " tensor(0.0863),\n",
              " tensor(0.0859),\n",
              " tensor(0.0848),\n",
              " tensor(0.0835),\n",
              " tensor(0.0829),\n",
              " tensor(0.0832),\n",
              " tensor(0.0868),\n",
              " tensor(0.0872),\n",
              " tensor(0.0926),\n",
              " tensor(0.0912),\n",
              " tensor(0.0951),\n",
              " tensor(0.0978),\n",
              " tensor(0.0972),\n",
              " tensor(0.1008),\n",
              " tensor(0.1021),\n",
              " tensor(0.1019),\n",
              " tensor(0.1000),\n",
              " tensor(0.0994),\n",
              " tensor(0.0976),\n",
              " tensor(0.0997),\n",
              " tensor(0.0985),\n",
              " tensor(0.0977),\n",
              " tensor(0.0969),\n",
              " tensor(0.0951),\n",
              " tensor(0.1011),\n",
              " tensor(0.1025),\n",
              " tensor(0.1029),\n",
              " tensor(0.1021),\n",
              " tensor(0.1010),\n",
              " tensor(0.0998),\n",
              " tensor(0.1064),\n",
              " tensor(0.1059),\n",
              " tensor(0.1080),\n",
              " tensor(0.1076),\n",
              " tensor(0.1065),\n",
              " tensor(0.1050),\n",
              " tensor(0.1032),\n",
              " tensor(0.1021),\n",
              " tensor(0.1032),\n",
              " tensor(0.1046),\n",
              " tensor(0.1035),\n",
              " tensor(0.1021),\n",
              " tensor(0.1058),\n",
              " tensor(0.1073),\n",
              " tensor(0.1079),\n",
              " tensor(0.1059),\n",
              " tensor(0.1083),\n",
              " tensor(0.1065),\n",
              " tensor(0.1085),\n",
              " tensor(0.1071),\n",
              " tensor(0.1078),\n",
              " tensor(0.1060),\n",
              " tensor(0.1066),\n",
              " tensor(0.1053),\n",
              " tensor(0.1058),\n",
              " tensor(0.1050),\n",
              " tensor(0.1031),\n",
              " tensor(0.1030),\n",
              " tensor(0.1014),\n",
              " tensor(0.1002),\n",
              " tensor(0.0993),\n",
              " tensor(0.0983),\n",
              " tensor(0.0976),\n",
              " tensor(0.0984),\n",
              " tensor(0.0982),\n",
              " tensor(0.0974),\n",
              " tensor(0.0977),\n",
              " tensor(0.0968),\n",
              " tensor(0.0954),\n",
              " tensor(0.0947),\n",
              " tensor(0.0962),\n",
              " tensor(0.0947),\n",
              " tensor(0.0931),\n",
              " tensor(0.0924),\n",
              " tensor(0.0920),\n",
              " tensor(0.0948),\n",
              " tensor(0.0940),\n",
              " tensor(0.0925),\n",
              " tensor(0.0919),\n",
              " tensor(0.0907),\n",
              " tensor(0.0893),\n",
              " tensor(0.0940),\n",
              " tensor(0.0931),\n",
              " tensor(0.0917),\n",
              " tensor(0.0906),\n",
              " tensor(0.0891),\n",
              " tensor(0.0882),\n",
              " tensor(0.0882),\n",
              " tensor(0.0873),\n",
              " tensor(0.0865),\n",
              " tensor(0.0852),\n",
              " tensor(0.0858),\n",
              " tensor(0.0908),\n",
              " tensor(0.0891),\n",
              " tensor(0.0878),\n",
              " tensor(0.0866),\n",
              " tensor(0.0857),\n",
              " tensor(0.0843),\n",
              " tensor(0.0860),\n",
              " tensor(0.0869),\n",
              " tensor(0.0862),\n",
              " tensor(0.0856),\n",
              " tensor(0.0853),\n",
              " tensor(0.0842),\n",
              " tensor(0.0834),\n",
              " tensor(0.0829),\n",
              " tensor(0.0816),\n",
              " tensor(0.0839),\n",
              " tensor(0.0845),\n",
              " tensor(0.0857),\n",
              " tensor(0.0859),\n",
              " tensor(0.0866),\n",
              " tensor(0.0868),\n",
              " tensor(0.0866),\n",
              " tensor(0.0851),\n",
              " tensor(0.0853),\n",
              " tensor(0.0861),\n",
              " tensor(0.0846),\n",
              " tensor(0.0837),\n",
              " tensor(0.0824),\n",
              " tensor(0.0808),\n",
              " tensor(0.0805),\n",
              " tensor(0.0800),\n",
              " tensor(0.0808),\n",
              " tensor(0.0838),\n",
              " tensor(0.0879),\n",
              " tensor(0.0873),\n",
              " tensor(0.0868),\n",
              " tensor(0.0863),\n",
              " tensor(0.0871),\n",
              " tensor(0.0880),\n",
              " tensor(0.0864),\n",
              " tensor(0.0864),\n",
              " tensor(0.0867),\n",
              " tensor(0.0854),\n",
              " tensor(0.0865),\n",
              " tensor(0.0859),\n",
              " tensor(0.0846),\n",
              " tensor(0.0840),\n",
              " tensor(0.0825),\n",
              " tensor(0.0826),\n",
              " tensor(0.0816),\n",
              " tensor(0.0839),\n",
              " tensor(0.0834),\n",
              " tensor(0.0821),\n",
              " tensor(0.0808),\n",
              " tensor(0.0806),\n",
              " tensor(0.0841),\n",
              " tensor(0.0854)]"
            ]
          },
          "metadata": {
            "tags": []
          },
          "execution_count": 29
        }
      ]
    },
    {
      "cell_type": "code",
      "metadata": {
        "id": "BEI8zG9f1cSj",
        "outputId": "9a837202-3157-4c4c-9d80-a5d33790d866",
        "colab": {
          "base_uri": "https://localhost:8080/",
          "height": 541
        }
      },
      "source": [
        "lr_diff = 15\n",
        "loss_threshold= .05\n",
        "adjust_value = 1\n",
        "plot = False\n",
        "\n",
        "\n",
        "#Get loss values and their corresponding gradients, and get lr values\n",
        "losses = np.array(learn.recorder.losses)\n",
        "loss_grad = np.gradient(losses)\n",
        "lrs = learn.recorder.lrs\n",
        "\n",
        "# plots the gradients of the losses in respect to the learning rate change\n",
        "plt.plot(loss_grad)\n",
        "plt.plot(len(losses)+l_idx, loss_grad[l_idx], markersize=10, marker='o', color='red')\n",
        "plt.ylabel(\"gradients of Loss\")\n",
        "plt.xlabel(\"Index of LRs\")\n",
        "plt.show()\n",
        "\n",
        "\n",
        "plt.plot(np.log10(lrs), losses)\n",
        "plt.xlabel(\"Learning Rate\")\n",
        "plt.ylabel(\"Loss\")\n",
        "plt.show()"
      ],
      "execution_count": null,
      "outputs": [
        {
          "output_type": "display_data",
          "data": {
            "image/png": "[encoded data removed]",
            "text/plain": [
              "<Figure size 432x288 with 1 Axes>"
            ]
          },
          "metadata": {
            "tags": []
          }
        },
        {
          "output_type": "display_data",
          "data": {
            "image/png": "[encoded data removed]",
            "text/plain": [
              "<Figure size 432x288 with 1 Axes>"
            ]
          },
          "metadata": {
            "tags": []
          }
        }
      ]
    },
    {
      "cell_type": "code",
      "metadata": {
        "id": "KjVqM-4D4pxu",
        "outputId": "b1c527c9-45f9-48bd-a9ab-c0408e7db933",
        "colab": {
          "base_uri": "https://localhost:8080/",
          "height": 279
        }
      },
      "source": [
        "learn.recorder.plot()"
      ],
      "execution_count": null,
      "outputs": [
        {
          "output_type": "display_data",
          "data": {
            "image/png": "[encoded data removed]",
            "text/plain": [
              "<Figure size 432x288 with 1 Axes>"
            ]
          },
          "metadata": {
            "tags": []
          }
        }
      ]
    },
    {
      "cell_type": "code",
      "metadata": {
        "id": "9y3XWqsu4p0I",
        "outputId": "912480a0-beb3-4d7d-d88f-76e8043f1e20",
        "colab": {
          "base_uri": "https://localhost:8080/",
          "height": 279
        }
      },
      "source": [
        "plt.plot(lrs, losses)\n",
        "plt.xlabel(\"Learning Rate\")\n",
        "plt.ylabel(\"Loss\")\n",
        "plt.show()"
      ],
      "execution_count": null,
      "outputs": [
        {
          "output_type": "display_data",
          "data": {
            "image/png": "[encoded data removed]",
            "text/plain": [
              "<Figure size 432x288 with 1 Axes>"
            ]
          },
          "metadata": {
            "tags": []
          }
        }
      ]
    },
    {
      "cell_type": "code",
      "metadata": {
        "id": "p4Dq1TKL4p20"
      },
      "source": [
        ""
      ],
      "execution_count": null,
      "outputs": []
    },
    {
      "cell_type": "code",
      "metadata": {
        "id": "3ebH2cS44p5G"
      },
      "source": [
        ""
      ],
      "execution_count": null,
      "outputs": []
    },
    {
      "cell_type": "code",
      "metadata": {
        "id": "dmJRfU_O4ptD"
      },
      "source": [
        ""
      ],
      "execution_count": null,
      "outputs": []
    },
    {
      "cell_type": "code",
      "metadata": {
        "id": "zNoyVD1V5rtB"
      },
      "source": [
        "learn.unfreeze()\n",
        "learn.lr_find()\n",
        "learn.recorder.plot()"
      ],
      "execution_count": null,
      "outputs": []
    },
    {
      "cell_type": "code",
      "metadata": {
        "id": "BZqih_upZDvg",
        "outputId": "4411b491-7714-4860-c76b-9476ef251a40",
        "colab": {
          "base_uri": "https://localhost:8080/",
          "height": 35
        }
      },
      "source": [
        "lr_found = find_appropriate_lr(learn)"
      ],
      "execution_count": null,
      "outputs": [
        {
          "output_type": "display_data",
          "data": {
            "text/html": [
              ""
            ],
            "text/plain": [
              "<IPython.core.display.HTML object>"
            ]
          },
          "metadata": {
            "tags": []
          }
        },
        {
          "output_type": "stream",
          "text": [
            "LR Finder is complete, type {learner_name}.recorder.plot() to see the graph.\n"
          ],
          "name": "stdout"
        }
      ]
    },
    {
      "cell_type": "code",
      "metadata": {
        "id": "XLi13z4WcphS",
        "outputId": "b6b0435d-bfcd-4bb1-ea2a-8568502f687e",
        "colab": {
          "base_uri": "https://localhost:8080/",
          "height": 297
        }
      },
      "source": [
        "print(lr_found)\n",
        "learn.recorder.plot()"
      ],
      "execution_count": null,
      "outputs": [
        {
          "output_type": "stream",
          "text": [
            "0.006309573444801929\n"
          ],
          "name": "stdout"
        },
        {
          "output_type": "display_data",
          "data": {
            "image/png": "[encoded data removed]",
            "text/plain": [
              "<Figure size 432x288 with 1 Axes>"
            ]
          },
          "metadata": {
            "tags": []
          }
        }
      ]
    },
    {
      "cell_type": "code",
      "metadata": {
        "id": "5FqE2iyRlPzh",
        "outputId": "1a637cb1-15d0-428b-9628-63ba9063943d",
        "colab": {
          "base_uri": "https://localhost:8080/",
          "height": 1000
        }
      },
      "source": [
        "learn.fit_one_cycle(50, max_lr=lr_found)"
      ],
      "execution_count": null,
      "outputs": [
        {
          "output_type": "display_data",
          "data": {
            "text/html": [
              "<table border=\"1\" class=\"dataframe\">\n",
              "  <thead>\n",
              "    <tr style=\"text-align: left;\">\n",
              "      <th>epoch</th>\n",
              "      <th>train_loss</th>\n",
              "      <th>valid_loss</th>\n",
              "      <th>accuracy</th>\n",
              "      <th>time</th>\n",
              "    </tr>\n",
              "  </thead>\n",
              "  <tbody>\n",
              "    <tr>\n",
              "      <td>0</td>\n",
              "      <td>0.464344</td>\n",
              "      <td>0.478440</td>\n",
              "      <td>0.854369</td>\n",
              "      <td>01:12</td>\n",
              "    </tr>\n",
              "    <tr>\n",
              "      <td>1</td>\n",
              "      <td>0.424061</td>\n",
              "      <td>0.427354</td>\n",
              "      <td>0.864078</td>\n",
              "      <td>01:12</td>\n",
              "    </tr>\n",
              "    <tr>\n",
              "      <td>2</td>\n",
              "      <td>0.390665</td>\n",
              "      <td>0.370595</td>\n",
              "      <td>0.902913</td>\n",
              "      <td>01:12</td>\n",
              "    </tr>\n",
              "    <tr>\n",
              "      <td>3</td>\n",
              "      <td>0.360013</td>\n",
              "      <td>0.356250</td>\n",
              "      <td>0.912621</td>\n",
              "      <td>01:13</td>\n",
              "    </tr>\n",
              "    <tr>\n",
              "      <td>4</td>\n",
              "      <td>0.334425</td>\n",
              "      <td>0.399384</td>\n",
              "      <td>0.893204</td>\n",
              "      <td>01:13</td>\n",
              "    </tr>\n",
              "    <tr>\n",
              "      <td>5</td>\n",
              "      <td>0.304025</td>\n",
              "      <td>0.264410</td>\n",
              "      <td>0.932039</td>\n",
              "      <td>01:13</td>\n",
              "    </tr>\n",
              "    <tr>\n",
              "      <td>6</td>\n",
              "      <td>0.274283</td>\n",
              "      <td>0.201019</td>\n",
              "      <td>0.961165</td>\n",
              "      <td>01:13</td>\n",
              "    </tr>\n",
              "    <tr>\n",
              "      <td>7</td>\n",
              "      <td>0.253355</td>\n",
              "      <td>0.171626</td>\n",
              "      <td>0.941748</td>\n",
              "      <td>01:13</td>\n",
              "    </tr>\n",
              "    <tr>\n",
              "      <td>8</td>\n",
              "      <td>0.230180</td>\n",
              "      <td>0.308620</td>\n",
              "      <td>0.922330</td>\n",
              "      <td>01:13</td>\n",
              "    </tr>\n",
              "    <tr>\n",
              "      <td>9</td>\n",
              "      <td>0.217263</td>\n",
              "      <td>0.518281</td>\n",
              "      <td>0.893204</td>\n",
              "      <td>01:13</td>\n",
              "    </tr>\n",
              "    <tr>\n",
              "      <td>10</td>\n",
              "      <td>0.209468</td>\n",
              "      <td>0.470754</td>\n",
              "      <td>0.912621</td>\n",
              "      <td>01:14</td>\n",
              "    </tr>\n",
              "    <tr>\n",
              "      <td>11</td>\n",
              "      <td>0.229649</td>\n",
              "      <td>0.612862</td>\n",
              "      <td>0.893204</td>\n",
              "      <td>01:14</td>\n",
              "    </tr>\n",
              "    <tr>\n",
              "      <td>12</td>\n",
              "      <td>0.213880</td>\n",
              "      <td>0.478215</td>\n",
              "      <td>0.893204</td>\n",
              "      <td>01:13</td>\n",
              "    </tr>\n",
              "    <tr>\n",
              "      <td>13</td>\n",
              "      <td>0.207227</td>\n",
              "      <td>0.334533</td>\n",
              "      <td>0.902913</td>\n",
              "      <td>01:14</td>\n",
              "    </tr>\n",
              "    <tr>\n",
              "      <td>14</td>\n",
              "      <td>0.201512</td>\n",
              "      <td>0.913046</td>\n",
              "      <td>0.864078</td>\n",
              "      <td>01:13</td>\n",
              "    </tr>\n",
              "    <tr>\n",
              "      <td>15</td>\n",
              "      <td>0.197999</td>\n",
              "      <td>0.525375</td>\n",
              "      <td>0.864078</td>\n",
              "      <td>01:14</td>\n",
              "    </tr>\n",
              "    <tr>\n",
              "      <td>16</td>\n",
              "      <td>0.194279</td>\n",
              "      <td>0.485179</td>\n",
              "      <td>0.873786</td>\n",
              "      <td>01:13</td>\n",
              "    </tr>\n",
              "    <tr>\n",
              "      <td>17</td>\n",
              "      <td>0.193538</td>\n",
              "      <td>0.429378</td>\n",
              "      <td>0.883495</td>\n",
              "      <td>01:14</td>\n",
              "    </tr>\n",
              "    <tr>\n",
              "      <td>18</td>\n",
              "      <td>0.190921</td>\n",
              "      <td>1.094822</td>\n",
              "      <td>0.815534</td>\n",
              "      <td>01:12</td>\n",
              "    </tr>\n",
              "    <tr>\n",
              "      <td>19</td>\n",
              "      <td>0.206393</td>\n",
              "      <td>0.591245</td>\n",
              "      <td>0.834951</td>\n",
              "      <td>01:13</td>\n",
              "    </tr>\n",
              "    <tr>\n",
              "      <td>20</td>\n",
              "      <td>0.194014</td>\n",
              "      <td>0.685074</td>\n",
              "      <td>0.902913</td>\n",
              "      <td>01:14</td>\n",
              "    </tr>\n",
              "    <tr>\n",
              "      <td>21</td>\n",
              "      <td>0.178424</td>\n",
              "      <td>0.452779</td>\n",
              "      <td>0.893204</td>\n",
              "      <td>01:14</td>\n",
              "    </tr>\n",
              "    <tr>\n",
              "      <td>22</td>\n",
              "      <td>0.172068</td>\n",
              "      <td>0.532201</td>\n",
              "      <td>0.902913</td>\n",
              "      <td>01:13</td>\n",
              "    </tr>\n",
              "    <tr>\n",
              "      <td>23</td>\n",
              "      <td>0.162288</td>\n",
              "      <td>0.384814</td>\n",
              "      <td>0.902913</td>\n",
              "      <td>01:13</td>\n",
              "    </tr>\n",
              "    <tr>\n",
              "      <td>24</td>\n",
              "      <td>0.159454</td>\n",
              "      <td>0.533745</td>\n",
              "      <td>0.932039</td>\n",
              "      <td>01:13</td>\n",
              "    </tr>\n",
              "    <tr>\n",
              "      <td>25</td>\n",
              "      <td>0.162361</td>\n",
              "      <td>0.617393</td>\n",
              "      <td>0.854369</td>\n",
              "      <td>01:14</td>\n",
              "    </tr>\n",
              "    <tr>\n",
              "      <td>26</td>\n",
              "      <td>0.150799</td>\n",
              "      <td>0.440509</td>\n",
              "      <td>0.912621</td>\n",
              "      <td>01:12</td>\n",
              "    </tr>\n",
              "    <tr>\n",
              "      <td>27</td>\n",
              "      <td>0.150637</td>\n",
              "      <td>0.349904</td>\n",
              "      <td>0.941748</td>\n",
              "      <td>01:13</td>\n",
              "    </tr>\n",
              "    <tr>\n",
              "      <td>28</td>\n",
              "      <td>0.134373</td>\n",
              "      <td>0.491726</td>\n",
              "      <td>0.941748</td>\n",
              "      <td>01:13</td>\n",
              "    </tr>\n",
              "    <tr>\n",
              "      <td>29</td>\n",
              "      <td>0.129989</td>\n",
              "      <td>0.570777</td>\n",
              "      <td>0.912621</td>\n",
              "      <td>01:13</td>\n",
              "    </tr>\n",
              "    <tr>\n",
              "      <td>30</td>\n",
              "      <td>0.121996</td>\n",
              "      <td>0.349021</td>\n",
              "      <td>0.941748</td>\n",
              "      <td>01:13</td>\n",
              "    </tr>\n",
              "    <tr>\n",
              "      <td>31</td>\n",
              "      <td>0.109341</td>\n",
              "      <td>0.327737</td>\n",
              "      <td>0.970874</td>\n",
              "      <td>01:14</td>\n",
              "    </tr>\n",
              "    <tr>\n",
              "      <td>32</td>\n",
              "      <td>0.094756</td>\n",
              "      <td>0.354652</td>\n",
              "      <td>0.951456</td>\n",
              "      <td>01:14</td>\n",
              "    </tr>\n",
              "    <tr>\n",
              "      <td>33</td>\n",
              "      <td>0.087126</td>\n",
              "      <td>0.385563</td>\n",
              "      <td>0.951456</td>\n",
              "      <td>01:14</td>\n",
              "    </tr>\n",
              "    <tr>\n",
              "      <td>34</td>\n",
              "      <td>0.076577</td>\n",
              "      <td>0.373177</td>\n",
              "      <td>0.961165</td>\n",
              "      <td>01:12</td>\n",
              "    </tr>\n",
              "    <tr>\n",
              "      <td>35</td>\n",
              "      <td>0.070875</td>\n",
              "      <td>0.378044</td>\n",
              "      <td>0.951456</td>\n",
              "      <td>01:14</td>\n",
              "    </tr>\n",
              "    <tr>\n",
              "      <td>36</td>\n",
              "      <td>0.063073</td>\n",
              "      <td>0.374040</td>\n",
              "      <td>0.932039</td>\n",
              "      <td>01:14</td>\n",
              "    </tr>\n",
              "    <tr>\n",
              "      <td>37</td>\n",
              "      <td>0.056970</td>\n",
              "      <td>0.353494</td>\n",
              "      <td>0.941748</td>\n",
              "      <td>01:14</td>\n",
              "    </tr>\n",
              "    <tr>\n",
              "      <td>38</td>\n",
              "      <td>0.049113</td>\n",
              "      <td>0.352953</td>\n",
              "      <td>0.961165</td>\n",
              "      <td>01:13</td>\n",
              "    </tr>\n",
              "    <tr>\n",
              "      <td>39</td>\n",
              "      <td>0.047034</td>\n",
              "      <td>0.344731</td>\n",
              "      <td>0.961165</td>\n",
              "      <td>01:13</td>\n",
              "    </tr>\n",
              "    <tr>\n",
              "      <td>40</td>\n",
              "      <td>0.043312</td>\n",
              "      <td>0.346653</td>\n",
              "      <td>0.970874</td>\n",
              "      <td>01:13</td>\n",
              "    </tr>\n",
              "    <tr>\n",
              "      <td>41</td>\n",
              "      <td>0.038577</td>\n",
              "      <td>0.351508</td>\n",
              "      <td>0.970874</td>\n",
              "      <td>01:13</td>\n",
              "    </tr>\n",
              "    <tr>\n",
              "      <td>42</td>\n",
              "      <td>0.033255</td>\n",
              "      <td>0.350320</td>\n",
              "      <td>0.961165</td>\n",
              "      <td>01:13</td>\n",
              "    </tr>\n",
              "    <tr>\n",
              "      <td>43</td>\n",
              "      <td>0.030576</td>\n",
              "      <td>0.344938</td>\n",
              "      <td>0.961165</td>\n",
              "      <td>01:14</td>\n",
              "    </tr>\n",
              "    <tr>\n",
              "      <td>44</td>\n",
              "      <td>0.030506</td>\n",
              "      <td>0.341074</td>\n",
              "      <td>0.970874</td>\n",
              "      <td>01:14</td>\n",
              "    </tr>\n",
              "    <tr>\n",
              "      <td>45</td>\n",
              "      <td>0.026620</td>\n",
              "      <td>0.344278</td>\n",
              "      <td>0.961165</td>\n",
              "      <td>01:13</td>\n",
              "    </tr>\n",
              "    <tr>\n",
              "      <td>46</td>\n",
              "      <td>0.022921</td>\n",
              "      <td>0.340686</td>\n",
              "      <td>0.961165</td>\n",
              "      <td>01:13</td>\n",
              "    </tr>\n",
              "    <tr>\n",
              "      <td>47</td>\n",
              "      <td>0.020386</td>\n",
              "      <td>0.338644</td>\n",
              "      <td>0.970874</td>\n",
              "      <td>01:13</td>\n",
              "    </tr>\n",
              "    <tr>\n",
              "      <td>48</td>\n",
              "      <td>0.018420</td>\n",
              "      <td>0.341557</td>\n",
              "      <td>0.970874</td>\n",
              "      <td>01:14</td>\n",
              "    </tr>\n",
              "    <tr>\n",
              "      <td>49</td>\n",
              "      <td>0.017112</td>\n",
              "      <td>0.342739</td>\n",
              "      <td>0.970874</td>\n",
              "      <td>01:14</td>\n",
              "    </tr>\n",
              "  </tbody>\n",
              "</table>"
            ],
            "text/plain": [
              "<IPython.core.display.HTML object>"
            ]
          },
          "metadata": {
            "tags": []
          }
        },
        {
          "output_type": "display_data",
          "data": {
            "image/png": "[encoded data removed]",
            "text/plain": [
              "<Figure size 432x288 with 1 Axes>"
            ]
          },
          "metadata": {
            "tags": []
          }
        }
      ]
    },
    {
      "cell_type": "code",
      "metadata": {
        "id": "rfFa4z0TJbbm",
        "outputId": "d7c4413d-74f3-4a4b-a82f-f8812da2dbe6",
        "colab": {
          "base_uri": "https://localhost:8080/",
          "height": 279
        }
      },
      "source": [
        "learn.recorder.plot_losses()"
      ],
      "execution_count": null,
      "outputs": [
        {
          "output_type": "display_data",
          "data": {
            "image/png": "[encoded data removed]",
            "text/plain": [
              "<Figure size 432x288 with 1 Axes>"
            ]
          },
          "metadata": {
            "tags": []
          }
        }
      ]
    },
    {
      "cell_type": "code",
      "metadata": {
        "id": "OzMwylnMPLQ2"
      },
      "source": [
        "learn.export()"
      ],
      "execution_count": null,
      "outputs": []
    },
    {
      "cell_type": "code",
      "metadata": {
        "id": "aeHavbiclTBc"
      },
      "source": [
        "interp = ClassificationInterpretation.from_learner(learn)"
      ],
      "execution_count": null,
      "outputs": []
    },
    {
      "cell_type": "code",
      "metadata": {
        "id": "JIUEkajMlUCs"
      },
      "source": [
        "interp.plot_confusion_matrix(figsize=(12,12), dpi=60)"
      ],
      "execution_count": null,
      "outputs": []
    },
    {
      "cell_type": "code",
      "metadata": {
        "id": "UTxMis5VlZBM"
      },
      "source": [
        "interp.plot_top_losses(9, figsize=(22,10), heatmap=True)"
      ],
      "execution_count": null,
      "outputs": []
    },
    {
      "cell_type": "code",
      "metadata": {
        "id": "OrwlKk17UjGr"
      },
      "source": [
        "learn.save('/content/drive/My Drive/Colab Notebooks/final_model')"
      ],
      "execution_count": null,
      "outputs": []
    },
    {
      "cell_type": "code",
      "metadata": {
        "id": "m1fO-czYbpBX",
        "outputId": "df56fd21-a838-4d5d-ac33-34d66cf35368",
        "colab": {
          "base_uri": "https://localhost:8080/",
          "height": 127
        }
      },
      "source": [
        "img = open_image('/content/drive/My Drive/Dibas-Dataset/Train/Acinetobacter.baumanii/Acinetobacter.baumanii_0001.tif')\n",
        "\n",
        "pred = learn.predict(img)\n",
        "print(pred)"
      ],
      "execution_count": null,
      "outputs": [
        {
          "output_type": "stream",
          "text": [
            "(Category Acinetobacter.baumanii, tensor(0), tensor([9.9997e-01, 1.8725e-08, 1.2171e-09, 9.6423e-10, 2.3399e-09, 1.1374e-08,\n",
            "        2.8063e-09, 1.0274e-08, 1.0907e-05, 2.1671e-09, 2.3576e-09, 2.1839e-08,\n",
            "        3.5610e-07, 7.8965e-10, 3.2361e-08, 5.8335e-09, 6.6625e-09, 7.6821e-09,\n",
            "        1.4084e-09, 8.1118e-09, 5.0781e-09, 4.5196e-08, 2.7070e-10, 3.7924e-06,\n",
            "        1.3305e-09, 7.1572e-09, 6.5639e-06, 3.8230e-06, 3.2527e-09, 1.0860e-06,\n",
            "        3.2950e-08, 3.8360e-10, 5.5974e-08]))\n"
          ],
          "name": "stdout"
        }
      ]
    },
    {
      "cell_type": "code",
      "metadata": {
        "id": "6_nq9_HAhHYT",
        "outputId": "f766bd42-c343-4c61-a055-ddf9e1895703",
        "colab": {
          "base_uri": "https://localhost:8080/",
          "height": 660
        }
      },
      "source": [
        "learn.path.ls()"
      ],
      "execution_count": null,
      "outputs": [
        {
          "output_type": "execute_result",
          "data": {
            "text/plain": [
              "[PosixPath('/content/drive/My Drive/Dibas-Dataset/Train/Bifidobacterium.spp'),\n",
              " PosixPath('/content/drive/My Drive/Dibas-Dataset/Train/Acinetobacter.baumanii'),\n",
              " PosixPath('/content/drive/My Drive/Dibas-Dataset/Train/Actinomyces.israeli'),\n",
              " PosixPath('/content/drive/My Drive/Dibas-Dataset/Train/Bacteroides.fragilis'),\n",
              " PosixPath('/content/drive/My Drive/Dibas-Dataset/Train/Candida.albicans'),\n",
              " PosixPath('/content/drive/My Drive/Dibas-Dataset/Train/Escherichia.coli'),\n",
              " PosixPath('/content/drive/My Drive/Dibas-Dataset/Train/Clostridium.perfringens'),\n",
              " PosixPath('/content/drive/My Drive/Dibas-Dataset/Train/Enterococcus.faecalis'),\n",
              " PosixPath('/content/drive/My Drive/Dibas-Dataset/Train/Enterococcus.faecium'),\n",
              " PosixPath('/content/drive/My Drive/Dibas-Dataset/Train/Fusobacterium'),\n",
              " PosixPath('/content/drive/My Drive/Dibas-Dataset/Train/Lactobacillus.casei'),\n",
              " PosixPath('/content/drive/My Drive/Dibas-Dataset/Train/Lactobacillus.crispatus'),\n",
              " PosixPath('/content/drive/My Drive/Dibas-Dataset/Train/Lactobacillus.delbrueckii'),\n",
              " PosixPath('/content/drive/My Drive/Dibas-Dataset/Train/Veionella'),\n",
              " PosixPath('/content/drive/My Drive/Dibas-Dataset/Train/Lactobacillus.jehnsenii'),\n",
              " PosixPath('/content/drive/My Drive/Dibas-Dataset/Train/Lactobacillus.gasseri'),\n",
              " PosixPath('/content/drive/My Drive/Dibas-Dataset/Train/Streptococcus.agalactiae'),\n",
              " PosixPath('/content/drive/My Drive/Dibas-Dataset/Train/Staphylococcus.saprophiticus'),\n",
              " PosixPath('/content/drive/My Drive/Dibas-Dataset/Train/Staphylococcus.epidermidis'),\n",
              " PosixPath('/content/drive/My Drive/Dibas-Dataset/Train/Lactobacillus.paracasei'),\n",
              " PosixPath('/content/drive/My Drive/Dibas-Dataset/Train/Lactobacillus.johnsonii'),\n",
              " PosixPath('/content/drive/My Drive/Dibas-Dataset/Train/Lactobacillus.salivarius'),\n",
              " PosixPath('/content/drive/My Drive/Dibas-Dataset/Train/Lactobacillus.rhamnosus'),\n",
              " PosixPath('/content/drive/My Drive/Dibas-Dataset/Train/Proteus'),\n",
              " PosixPath('/content/drive/My Drive/Dibas-Dataset/Train/Lactobacillus.reuteri'),\n",
              " PosixPath('/content/drive/My Drive/Dibas-Dataset/Train/Neisseria.gonorrhoeae'),\n",
              " PosixPath('/content/drive/My Drive/Dibas-Dataset/Train/Propionibacterium.acnes'),\n",
              " PosixPath('/content/drive/My Drive/Dibas-Dataset/Train/Porfyromonas.gingivalis'),\n",
              " PosixPath('/content/drive/My Drive/Dibas-Dataset/Train/Micrococcus.spp'),\n",
              " PosixPath('/content/drive/My Drive/Dibas-Dataset/Train/Listeria.monocytogenes'),\n",
              " PosixPath('/content/drive/My Drive/Dibas-Dataset/Train/Lactobacillus.plantarum'),\n",
              " PosixPath('/content/drive/My Drive/Dibas-Dataset/Train/Staphylococcus.aureus'),\n",
              " PosixPath('/content/drive/My Drive/Dibas-Dataset/Train/Pseudomonas.aeruginosa'),\n",
              " PosixPath('/content/drive/My Drive/Dibas-Dataset/Train/export.pkl'),\n",
              " PosixPath('/content/drive/My Drive/Dibas-Dataset/Train/models')]"
            ]
          },
          "metadata": {
            "tags": []
          },
          "execution_count": 27
        }
      ]
    }
  ]
}